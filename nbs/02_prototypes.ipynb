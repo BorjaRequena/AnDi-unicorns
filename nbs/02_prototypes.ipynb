{
 "cells": [
  {
   "cell_type": "code",
   "execution_count": null,
   "metadata": {},
   "outputs": [],
   "source": [
    "#default_exp prototypes"
   ]
  },
  {
   "cell_type": "code",
   "execution_count": null,
   "metadata": {},
   "outputs": [],
   "source": [
    "#export\n",
    "from fastai.vision.all import *\n",
    "from fastai.text.all import *\n",
    "\n",
    "from andi_unicorns.models import *\n",
    "from andi_unicorns.data import *\n",
    "from andi_unicorns.utils import save_model, load_model"
   ]
  },
  {
   "cell_type": "code",
   "execution_count": null,
   "metadata": {},
   "outputs": [],
   "source": [
    "#hide\n",
    "%load_ext autoreload\n",
    "%autoreload 2"
   ]
  },
  {
   "cell_type": "markdown",
   "metadata": {},
   "source": [
    "# Prototypes\n",
    "> Prototyping for different tasks"
   ]
  },
  {
   "cell_type": "markdown",
   "metadata": {},
   "source": [
    "## Task 1 -- Regression\n",
    "\n",
    "Task 1 consists on predicting the anomalous exponent of the trajectories. It is a regression task evaluated with the mean absolute error (MAE). \n",
    "\n",
    "The different diffusion models can have different exponents depending on whether they are subdiffusive (0 to 1) or superdiffusive (1 to 2). Hence, when building regression models specifically for each diffusion model, it is best if the output range is already limitted. "
   ]
  },
  {
   "cell_type": "code",
   "execution_count": null,
   "metadata": {},
   "outputs": [],
   "source": [
    "yranges = {0: (0, 1.05), 1: (0, 1.05), 2: (0, 2), 3: (1, 2.05), 4: (0, 2.05)} # Dict mapping models to yranges"
   ]
  },
  {
   "cell_type": "markdown",
   "metadata": {},
   "source": [
    "### Generic model"
   ]
  },
  {
   "cell_type": "markdown",
   "metadata": {},
   "source": [
    "#### Based on RNN\n",
    "Using our LSTM only"
   ]
  },
  {
   "cell_type": "code",
   "execution_count": null,
   "metadata": {},
   "outputs": [],
   "source": [
    "dim = 1\n",
    "ds_path = DATA_PATH/f\"custom_val/custom_{dim}D.pkl\"\n",
    "bs = 128\n",
    "dls = get_custom_dls(target='exp', dim=dim, bs=bs, path=ds_path)\n",
    "my_lstm = RegLSTMLin(dim=dim, h_size=750, rnn_layers=2, in_p=0., hid_p=0.1, weight_p=1e-2, out_ps=0.3, \n",
    "                     linear_layers=[500, 200], ps=[0.4, 0.4], layer='GRU')\n",
    "learn = RNNLearner(dls, my_lstm, loss_func=L1LossFlat(), metrics=mae, alpha=1.)"
   ]
  },
  {
   "cell_type": "code",
   "execution_count": null,
   "metadata": {},
   "outputs": [
    {
     "data": {
      "text/html": [],
      "text/plain": [
       "<IPython.core.display.HTML object>"
      ]
     },
     "metadata": {},
     "output_type": "display_data"
    },
    {
     "data": {
      "text/plain": [
       "SuggestedLRs(lr_min=0.33113112449646, lr_steep=2.7542285919189453)"
      ]
     },
     "execution_count": null,
     "metadata": {},
     "output_type": "execute_result"
    },
    {
     "data": {
      "image/png": "[encoded data removed]",
      "text/plain": [
       "<Figure size 432x288 with 1 Axes>"
      ]
     },
     "metadata": {
      "needs_background": "light"
     },
     "output_type": "display_data"
    }
   ],
   "source": [
    "learn.lr_find()"
   ]
  },
  {
   "cell_type": "code",
   "execution_count": null,
   "metadata": {},
   "outputs": [
    {
     "data": {
      "text/html": [
       "<table border=\"1\" class=\"dataframe\">\n",
       "  <thead>\n",
       "    <tr style=\"text-align: left;\">\n",
       "      <th>epoch</th>\n",
       "      <th>train_loss</th>\n",
       "      <th>valid_loss</th>\n",
       "      <th>mae</th>\n",
       "      <th>time</th>\n",
       "    </tr>\n",
       "  </thead>\n",
       "  <tbody>\n",
       "    <tr>\n",
       "      <td>0</td>\n",
       "      <td>0.347856</td>\n",
       "      <td>0.330372</td>\n",
       "      <td>0.330372</td>\n",
       "      <td>02:55</td>\n",
       "    </tr>\n",
       "    <tr>\n",
       "      <td>1</td>\n",
       "      <td>0.309578</td>\n",
       "      <td>0.299753</td>\n",
       "      <td>0.299753</td>\n",
       "      <td>02:56</td>\n",
       "    </tr>\n",
       "    <tr>\n",
       "      <td>2</td>\n",
       "      <td>0.275723</td>\n",
       "      <td>0.275450</td>\n",
       "      <td>0.275450</td>\n",
       "      <td>03:00</td>\n",
       "    </tr>\n",
       "    <tr>\n",
       "      <td>3</td>\n",
       "      <td>0.260243</td>\n",
       "      <td>0.268862</td>\n",
       "      <td>0.268862</td>\n",
       "      <td>03:00</td>\n",
       "    </tr>\n",
       "    <tr>\n",
       "      <td>4</td>\n",
       "      <td>0.246959</td>\n",
       "      <td>0.257126</td>\n",
       "      <td>0.257126</td>\n",
       "      <td>02:56</td>\n",
       "    </tr>\n",
       "    <tr>\n",
       "      <td>5</td>\n",
       "      <td>0.238392</td>\n",
       "      <td>0.237278</td>\n",
       "      <td>0.237278</td>\n",
       "      <td>03:02</td>\n",
       "    </tr>\n",
       "    <tr>\n",
       "      <td>6</td>\n",
       "      <td>0.230515</td>\n",
       "      <td>0.247079</td>\n",
       "      <td>0.247079</td>\n",
       "      <td>02:58</td>\n",
       "    </tr>\n",
       "    <tr>\n",
       "      <td>7</td>\n",
       "      <td>0.223292</td>\n",
       "      <td>0.228718</td>\n",
       "      <td>0.228718</td>\n",
       "      <td>02:53</td>\n",
       "    </tr>\n",
       "    <tr>\n",
       "      <td>8</td>\n",
       "      <td>0.217824</td>\n",
       "      <td>0.237001</td>\n",
       "      <td>0.237001</td>\n",
       "      <td>02:54</td>\n",
       "    </tr>\n",
       "    <tr>\n",
       "      <td>9</td>\n",
       "      <td>0.221244</td>\n",
       "      <td>0.239800</td>\n",
       "      <td>0.239800</td>\n",
       "      <td>02:54</td>\n",
       "    </tr>\n",
       "    <tr>\n",
       "      <td>10</td>\n",
       "      <td>0.214430</td>\n",
       "      <td>0.225703</td>\n",
       "      <td>0.225703</td>\n",
       "      <td>02:52</td>\n",
       "    </tr>\n",
       "    <tr>\n",
       "      <td>11</td>\n",
       "      <td>0.204721</td>\n",
       "      <td>0.228764</td>\n",
       "      <td>0.228764</td>\n",
       "      <td>02:55</td>\n",
       "    </tr>\n",
       "    <tr>\n",
       "      <td>12</td>\n",
       "      <td>0.190522</td>\n",
       "      <td>0.226808</td>\n",
       "      <td>0.226808</td>\n",
       "      <td>03:03</td>\n",
       "    </tr>\n",
       "    <tr>\n",
       "      <td>13</td>\n",
       "      <td>0.198296</td>\n",
       "      <td>0.223111</td>\n",
       "      <td>0.223111</td>\n",
       "      <td>02:58</td>\n",
       "    </tr>\n",
       "    <tr>\n",
       "      <td>14</td>\n",
       "      <td>0.191179</td>\n",
       "      <td>0.229133</td>\n",
       "      <td>0.229133</td>\n",
       "      <td>02:55</td>\n",
       "    </tr>\n",
       "    <tr>\n",
       "      <td>15</td>\n",
       "      <td>0.185851</td>\n",
       "      <td>0.215061</td>\n",
       "      <td>0.215061</td>\n",
       "      <td>03:03</td>\n",
       "    </tr>\n",
       "    <tr>\n",
       "      <td>16</td>\n",
       "      <td>0.185056</td>\n",
       "      <td>0.219619</td>\n",
       "      <td>0.219619</td>\n",
       "      <td>03:00</td>\n",
       "    </tr>\n",
       "    <tr>\n",
       "      <td>17</td>\n",
       "      <td>0.193058</td>\n",
       "      <td>0.217492</td>\n",
       "      <td>0.217492</td>\n",
       "      <td>02:58</td>\n",
       "    </tr>\n",
       "    <tr>\n",
       "      <td>18</td>\n",
       "      <td>0.192215</td>\n",
       "      <td>0.214365</td>\n",
       "      <td>0.214365</td>\n",
       "      <td>02:54</td>\n",
       "    </tr>\n",
       "    <tr>\n",
       "      <td>19</td>\n",
       "      <td>0.188378</td>\n",
       "      <td>0.214098</td>\n",
       "      <td>0.214098</td>\n",
       "      <td>02:57</td>\n",
       "    </tr>\n",
       "  </tbody>\n",
       "</table>"
      ],
      "text/plain": [
       "<IPython.core.display.HTML object>"
      ]
     },
     "metadata": {},
     "output_type": "display_data"
    }
   ],
   "source": [
    "learn.fit_one_cycle(20, lr_max=5e-4, wd=1e-4)"
   ]
  },
  {
   "cell_type": "code",
   "execution_count": null,
   "metadata": {},
   "outputs": [
    {
     "data": {
      "image/png": "[encoded data removed]",
      "text/plain": [
       "<Figure size 432x288 with 1 Axes>"
      ]
     },
     "metadata": {
      "needs_background": "light"
     },
     "output_type": "display_data"
    }
   ],
   "source": [
    "learn.recorder.plot_loss()"
   ]
  },
  {
   "cell_type": "code",
   "execution_count": null,
   "metadata": {},
   "outputs": [],
   "source": [
    "save_model(learn.model, f'regrnn_t{1}_dim{dim}_custom')"
   ]
  },
  {
   "cell_type": "markdown",
   "metadata": {},
   "source": [
    "##### Validate the task"
   ]
  },
  {
   "cell_type": "code",
   "execution_count": null,
   "metadata": {},
   "outputs": [],
   "source": [
    "learn.load(f'reglstm_{dim}')\n",
    "validate_task([learn.model.cuda()], 1, [1])"
   ]
  },
  {
   "cell_type": "markdown",
   "metadata": {},
   "source": [
    "#### Based on CNN\n",
    "Using our CNN only"
   ]
  },
  {
   "cell_type": "code",
   "execution_count": null,
   "metadata": {},
   "outputs": [],
   "source": [
    "dim = 1\n",
    "dm = 0\n",
    "dls = get_custom_dls(target='exp', models=[dm], dim=dim, bs=128)\n",
    "cnn = CNNLin(dim, h_size=512, layers=[1, 1, 1], ks=3, out_p=0.5, stem_szs=(32, 64), \n",
    "             linear_layers=[200], ps=[0.5], yrange=yranges[dm])\n",
    "learn = MyLearner(dls, cnn, loss_func=L1LossFlat(), metrics=mae)"
   ]
  },
  {
   "cell_type": "code",
   "execution_count": null,
   "metadata": {},
   "outputs": [],
   "source": [
    "learn.lr_find()"
   ]
  },
  {
   "cell_type": "code",
   "execution_count": null,
   "metadata": {},
   "outputs": [
    {
     "data": {
      "text/html": [
       "<table border=\"1\" class=\"dataframe\">\n",
       "  <thead>\n",
       "    <tr style=\"text-align: left;\">\n",
       "      <th>epoch</th>\n",
       "      <th>train_loss</th>\n",
       "      <th>valid_loss</th>\n",
       "      <th>mae</th>\n",
       "      <th>time</th>\n",
       "    </tr>\n",
       "  </thead>\n",
       "  <tbody>\n",
       "    <tr>\n",
       "      <td>0</td>\n",
       "      <td>0.202664</td>\n",
       "      <td>0.213439</td>\n",
       "      <td>0.213439</td>\n",
       "      <td>00:06</td>\n",
       "    </tr>\n",
       "    <tr>\n",
       "      <td>1</td>\n",
       "      <td>0.200738</td>\n",
       "      <td>0.214090</td>\n",
       "      <td>0.214090</td>\n",
       "      <td>00:04</td>\n",
       "    </tr>\n",
       "    <tr>\n",
       "      <td>2</td>\n",
       "      <td>0.200976</td>\n",
       "      <td>0.214897</td>\n",
       "      <td>0.214897</td>\n",
       "      <td>00:04</td>\n",
       "    </tr>\n",
       "    <tr>\n",
       "      <td>3</td>\n",
       "      <td>0.204620</td>\n",
       "      <td>0.216568</td>\n",
       "      <td>0.216568</td>\n",
       "      <td>00:04</td>\n",
       "    </tr>\n",
       "    <tr>\n",
       "      <td>4</td>\n",
       "      <td>0.205150</td>\n",
       "      <td>0.214465</td>\n",
       "      <td>0.214465</td>\n",
       "      <td>00:04</td>\n",
       "    </tr>\n",
       "  </tbody>\n",
       "</table>"
      ],
      "text/plain": [
       "<IPython.core.display.HTML object>"
      ]
     },
     "metadata": {},
     "output_type": "display_data"
    }
   ],
   "source": [
    "learn.fit_one_cycle(5, lr_max=1e-6, wd=1e-4)"
   ]
  },
  {
   "cell_type": "code",
   "execution_count": null,
   "metadata": {},
   "outputs": [
    {
     "data": {
      "image/png": "[encoded data removed]",
      "text/plain": [
       "<Figure size 432x288 with 1 Axes>"
      ]
     },
     "metadata": {
      "needs_background": "light"
     },
     "output_type": "display_data"
    }
   ],
   "source": [
    "learn.recorder.plot_loss()"
   ]
  },
  {
   "cell_type": "code",
   "execution_count": null,
   "metadata": {},
   "outputs": [],
   "source": [
    "save_model(learn.model, f\"cnn_dim{dim}_t{1}_dm{dm}_0\")"
   ]
  },
  {
   "cell_type": "markdown",
   "metadata": {},
   "source": [
    "#### Combining RNN with CNN"
   ]
  },
  {
   "cell_type": "code",
   "execution_count": null,
   "metadata": {},
   "outputs": [],
   "source": [
    "#export\n",
    "class CNNonRNN(Module):\n",
    "    def __init__(self, dim, vocab_sz=1, rnn_h=750, rnn_layers=2, in_p=0.4, rnn_p=0.4, rnn_wp=0.1, bidir=False, layer='GRU',\n",
    "                cnn_h=500, cnn_exp=1, cnn_layers=[1, 1, 1], cnn_op=0.3, linear_layers=[200], ps=None, yrange=(0, 2.05), \n",
    "                 act=True, norm=False):\n",
    "        self.rnn = RegLSTM(dim, rnn_h, rnn_layers, input_p=in_p, hidden_p=rnn_p, weight_p=rnn_wp, bidir=bidir, layer=layer)\n",
    "        self.cnn = CNNLin(rnn_h, vocab_sz=vocab_sz, h_size=cnn_h, exp=cnn_exp, layers=cnn_layers, out_p=cnn_op, \n",
    "                          linear_layers=linear_layers, ps=ps, act=act, norm=norm, yrange=yrange)\n",
    "        self.blocks = [self.rnn, *self.cnn.blocks]\n",
    "    \n",
    "    def forward(self, x):\n",
    "        mask = x == 0\n",
    "        x = self.rnn(x)\n",
    "        x = x.masked_fill(mask, 0)\n",
    "        return self.cnn(x)"
   ]
  },
  {
   "cell_type": "code",
   "execution_count": null,
   "metadata": {},
   "outputs": [],
   "source": [
    "dim = 1\n",
    "dls = get_discriminative_dls(1, dim=dim, bs=128)\n",
    "model = CNNonRNN(dim, vocab_sz=1, rnn_layers=2, in_p=0., rnn_p=0.1, rnn_wp=0.01, cnn_op=0.3, \n",
    "                 ps=[0.4, 0.4], linear_layers=[500, 200])\n",
    "learn = MyLearner(dls, model, loss_func=L1LossFlat(), metrics=mae)"
   ]
  },
  {
   "cell_type": "code",
   "execution_count": null,
   "metadata": {},
   "outputs": [
    {
     "data": {
      "text/html": [],
      "text/plain": [
       "<IPython.core.display.HTML object>"
      ]
     },
     "metadata": {},
     "output_type": "display_data"
    },
    {
     "data": {
      "text/plain": [
       "SuggestedLRs(lr_min=0.004786301031708717, lr_steep=0.03981071710586548)"
      ]
     },
     "execution_count": null,
     "metadata": {},
     "output_type": "execute_result"
    },
    {
     "data": {
      "image/png": "[encoded data removed]",
      "text/plain": [
       "<Figure size 432x288 with 1 Axes>"
      ]
     },
     "metadata": {
      "needs_background": "light"
     },
     "output_type": "display_data"
    }
   ],
   "source": [
    "learn.lr_find()"
   ]
  },
  {
   "cell_type": "code",
   "execution_count": null,
   "metadata": {},
   "outputs": [
    {
     "data": {
      "text/html": [
       "<table border=\"1\" class=\"dataframe\">\n",
       "  <thead>\n",
       "    <tr style=\"text-align: left;\">\n",
       "      <th>epoch</th>\n",
       "      <th>train_loss</th>\n",
       "      <th>valid_loss</th>\n",
       "      <th>mae</th>\n",
       "      <th>time</th>\n",
       "    </tr>\n",
       "  </thead>\n",
       "  <tbody>\n",
       "    <tr>\n",
       "      <td>0</td>\n",
       "      <td>0.172011</td>\n",
       "      <td>0.237056</td>\n",
       "      <td>0.237056</td>\n",
       "      <td>00:20</td>\n",
       "    </tr>\n",
       "    <tr>\n",
       "      <td>1</td>\n",
       "      <td>0.189713</td>\n",
       "      <td>0.265156</td>\n",
       "      <td>0.265156</td>\n",
       "      <td>00:19</td>\n",
       "    </tr>\n",
       "    <tr>\n",
       "      <td>2</td>\n",
       "      <td>0.192752</td>\n",
       "      <td>0.258831</td>\n",
       "      <td>0.258831</td>\n",
       "      <td>00:19</td>\n",
       "    </tr>\n",
       "    <tr>\n",
       "      <td>3</td>\n",
       "      <td>0.188765</td>\n",
       "      <td>0.236309</td>\n",
       "      <td>0.236309</td>\n",
       "      <td>00:21</td>\n",
       "    </tr>\n",
       "    <tr>\n",
       "      <td>4</td>\n",
       "      <td>0.187344</td>\n",
       "      <td>0.256754</td>\n",
       "      <td>0.256754</td>\n",
       "      <td>00:18</td>\n",
       "    </tr>\n",
       "    <tr>\n",
       "      <td>5</td>\n",
       "      <td>0.186777</td>\n",
       "      <td>0.237032</td>\n",
       "      <td>0.237032</td>\n",
       "      <td>00:18</td>\n",
       "    </tr>\n",
       "    <tr>\n",
       "      <td>6</td>\n",
       "      <td>0.180639</td>\n",
       "      <td>0.236814</td>\n",
       "      <td>0.236814</td>\n",
       "      <td>00:18</td>\n",
       "    </tr>\n",
       "    <tr>\n",
       "      <td>7</td>\n",
       "      <td>0.170948</td>\n",
       "      <td>0.234491</td>\n",
       "      <td>0.234491</td>\n",
       "      <td>00:19</td>\n",
       "    </tr>\n",
       "    <tr>\n",
       "      <td>8</td>\n",
       "      <td>0.169263</td>\n",
       "      <td>0.230175</td>\n",
       "      <td>0.230175</td>\n",
       "      <td>00:20</td>\n",
       "    </tr>\n",
       "    <tr>\n",
       "      <td>9</td>\n",
       "      <td>0.164314</td>\n",
       "      <td>0.232538</td>\n",
       "      <td>0.232538</td>\n",
       "      <td>00:20</td>\n",
       "    </tr>\n",
       "  </tbody>\n",
       "</table>"
      ],
      "text/plain": [
       "<IPython.core.display.HTML object>"
      ]
     },
     "metadata": {},
     "output_type": "display_data"
    }
   ],
   "source": [
    "learn.fit_one_cycle(10, max_lr=5e-6, wd=1e-4)"
   ]
  },
  {
   "cell_type": "code",
   "execution_count": null,
   "metadata": {},
   "outputs": [],
   "source": [
    "learn.recorder.plot_loss()"
   ]
  },
  {
   "cell_type": "code",
   "execution_count": null,
   "metadata": {},
   "outputs": [],
   "source": [
    "save_model(learn.model, f\"rnn_on_cnn_dim{dim}_t{1}_0\")"
   ]
  },
  {
   "cell_type": "markdown",
   "metadata": {},
   "source": [
    "### Model specific regressors\n"
   ]
  },
  {
   "cell_type": "code",
   "execution_count": null,
   "metadata": {},
   "outputs": [
    {
     "data": {
      "text/html": [
       "\n",
       "    <div>\n",
       "        <style>\n",
       "            /* Turns off some styling */\n",
       "            progress {\n",
       "                /* gets rid of default border in Firefox and Opera. */\n",
       "                border: none;\n",
       "                /* Needs to be in here for Safari polyfill so background images work as expected. */\n",
       "                background-size: auto;\n",
       "            }\n",
       "            .progress-bar-interrupted, .progress-bar-interrupted::-webkit-progress-bar {\n",
       "                background: #F44336;\n",
       "            }\n",
       "        </style>\n",
       "      <progress value='5' class='' max='25' style='width:300px; height:20px; vertical-align: middle;'></progress>\n",
       "      20.00% [5/25 02:12<08:49]\n",
       "    </div>\n",
       "    \n",
       "<table border=\"1\" class=\"dataframe\">\n",
       "  <thead>\n",
       "    <tr style=\"text-align: left;\">\n",
       "      <th>epoch</th>\n",
       "      <th>train_loss</th>\n",
       "      <th>valid_loss</th>\n",
       "      <th>mae</th>\n",
       "      <th>time</th>\n",
       "    </tr>\n",
       "  </thead>\n",
       "  <tbody>\n",
       "    <tr>\n",
       "      <td>0</td>\n",
       "      <td>0.253303</td>\n",
       "      <td>0.187837</td>\n",
       "      <td>0.187837</td>\n",
       "      <td>00:26</td>\n",
       "    </tr>\n",
       "    <tr>\n",
       "      <td>1</td>\n",
       "      <td>0.236200</td>\n",
       "      <td>0.183536</td>\n",
       "      <td>0.183536</td>\n",
       "      <td>00:26</td>\n",
       "    </tr>\n",
       "    <tr>\n",
       "      <td>2</td>\n",
       "      <td>0.222096</td>\n",
       "      <td>0.182899</td>\n",
       "      <td>0.182899</td>\n",
       "      <td>00:26</td>\n",
       "    </tr>\n",
       "    <tr>\n",
       "      <td>3</td>\n",
       "      <td>0.203063</td>\n",
       "      <td>0.181920</td>\n",
       "      <td>0.181920</td>\n",
       "      <td>00:25</td>\n",
       "    </tr>\n",
       "    <tr>\n",
       "      <td>4</td>\n",
       "      <td>0.190330</td>\n",
       "      <td>0.163315</td>\n",
       "      <td>0.163314</td>\n",
       "      <td>00:26</td>\n",
       "    </tr>\n",
       "  </tbody>\n",
       "</table><p>\n",
       "\n",
       "    <div>\n",
       "        <style>\n",
       "            /* Turns off some styling */\n",
       "            progress {\n",
       "                /* gets rid of default border in Firefox and Opera. */\n",
       "                border: none;\n",
       "                /* Needs to be in here for Safari polyfill so background images work as expected. */\n",
       "                background-size: auto;\n",
       "            }\n",
       "            .progress-bar-interrupted, .progress-bar-interrupted::-webkit-progress-bar {\n",
       "                background: #F44336;\n",
       "            }\n",
       "        </style>\n",
       "      <progress value='9' class='' max='125' style='width:300px; height:20px; vertical-align: middle;'></progress>\n",
       "      7.20% [9/125 00:02<00:32 0.1889]\n",
       "    </div>\n",
       "    "
      ],
      "text/plain": [
       "<IPython.core.display.HTML object>"
      ]
     },
     "metadata": {},
     "output_type": "display_data"
    }
   ],
   "source": [
    "dim = 1\n",
    "ds_path = DATA_PATH/f\"custom_val/custom_{dim}D.pkl\"\n",
    "bs = 128\n",
    "for dm in range(1, 5):\n",
    "    for k in range(15):\n",
    "        dls = get_custom_dls(target='exp', dim=dim, models=[dm], bs=bs, path=ds_path)\n",
    "        rnn = RegLSTMLin(dim=dim, h_size=550, rnn_layers=2, in_p=0.1, hid_p=0.1, weight_p=1e-2, out_ps=0.3, \n",
    "                             linear_layers=[550], ps=[0.4], layer='GRU', yrange=yranges[dm])\n",
    "        learn = RNNLearner(dls, rnn, loss_func=L1LossFlat(), metrics=mae)\n",
    "        learn.fit_one_cycle(25, max_lr=5e-4, wd=2e-4)\n",
    "        \n",
    "        save_model(learn.model, f\"gru_dim{dim}_t{1}_dm{dm}_{k}_custom\")"
   ]
  },
  {
   "cell_type": "code",
   "execution_count": null,
   "metadata": {},
   "outputs": [],
   "source": [
    "dim = 1\n",
    "bs = 128\n",
    "dm = 3\n",
    "dls = get_custom_dls(target='exp', models=[dm], dim=dim, bs=128)"
   ]
  },
  {
   "cell_type": "code",
   "execution_count": null,
   "metadata": {},
   "outputs": [],
   "source": [
    "cnn = CNNLin(dim, h_size=1024, layers=[1, 1, 1], ks=3, out_p=0.5, stem_szs=(32, 64), \n",
    "             linear_layers=[200], ps=[0.5], yrange=yranges[dm])\n",
    "learn = MyLearner(dls, cnn, loss_func=L1LossFlat(), metrics=mae)"
   ]
  },
  {
   "cell_type": "code",
   "execution_count": null,
   "metadata": {},
   "outputs": [
    {
     "data": {
      "text/html": [
       "<table border=\"1\" class=\"dataframe\">\n",
       "  <thead>\n",
       "    <tr style=\"text-align: left;\">\n",
       "      <th>epoch</th>\n",
       "      <th>train_loss</th>\n",
       "      <th>valid_loss</th>\n",
       "      <th>mae</th>\n",
       "      <th>time</th>\n",
       "    </tr>\n",
       "  </thead>\n",
       "  <tbody>\n",
       "    <tr>\n",
       "      <td>0</td>\n",
       "      <td>0.260837</td>\n",
       "      <td>0.259146</td>\n",
       "      <td>0.259146</td>\n",
       "      <td>00:04</td>\n",
       "    </tr>\n",
       "    <tr>\n",
       "      <td>1</td>\n",
       "      <td>0.230274</td>\n",
       "      <td>0.233952</td>\n",
       "      <td>0.233952</td>\n",
       "      <td>00:04</td>\n",
       "    </tr>\n",
       "    <tr>\n",
       "      <td>2</td>\n",
       "      <td>0.203452</td>\n",
       "      <td>0.289101</td>\n",
       "      <td>0.289101</td>\n",
       "      <td>00:04</td>\n",
       "    </tr>\n",
       "    <tr>\n",
       "      <td>3</td>\n",
       "      <td>0.190984</td>\n",
       "      <td>0.201044</td>\n",
       "      <td>0.201044</td>\n",
       "      <td>00:04</td>\n",
       "    </tr>\n",
       "    <tr>\n",
       "      <td>4</td>\n",
       "      <td>0.173760</td>\n",
       "      <td>0.287257</td>\n",
       "      <td>0.287257</td>\n",
       "      <td>00:04</td>\n",
       "    </tr>\n",
       "    <tr>\n",
       "      <td>5</td>\n",
       "      <td>0.167538</td>\n",
       "      <td>0.168928</td>\n",
       "      <td>0.168928</td>\n",
       "      <td>00:04</td>\n",
       "    </tr>\n",
       "    <tr>\n",
       "      <td>6</td>\n",
       "      <td>0.161802</td>\n",
       "      <td>0.164526</td>\n",
       "      <td>0.164526</td>\n",
       "      <td>00:04</td>\n",
       "    </tr>\n",
       "    <tr>\n",
       "      <td>7</td>\n",
       "      <td>0.154783</td>\n",
       "      <td>0.161926</td>\n",
       "      <td>0.161926</td>\n",
       "      <td>00:04</td>\n",
       "    </tr>\n",
       "    <tr>\n",
       "      <td>8</td>\n",
       "      <td>0.154243</td>\n",
       "      <td>0.168337</td>\n",
       "      <td>0.168337</td>\n",
       "      <td>00:04</td>\n",
       "    </tr>\n",
       "    <tr>\n",
       "      <td>9</td>\n",
       "      <td>0.146993</td>\n",
       "      <td>0.158870</td>\n",
       "      <td>0.158870</td>\n",
       "      <td>00:04</td>\n",
       "    </tr>\n",
       "    <tr>\n",
       "      <td>10</td>\n",
       "      <td>0.150514</td>\n",
       "      <td>0.153611</td>\n",
       "      <td>0.153611</td>\n",
       "      <td>00:04</td>\n",
       "    </tr>\n",
       "    <tr>\n",
       "      <td>11</td>\n",
       "      <td>0.149431</td>\n",
       "      <td>0.156706</td>\n",
       "      <td>0.156706</td>\n",
       "      <td>00:04</td>\n",
       "    </tr>\n",
       "  </tbody>\n",
       "</table>"
      ],
      "text/plain": [
       "<IPython.core.display.HTML object>"
      ]
     },
     "metadata": {},
     "output_type": "display_data"
    }
   ],
   "source": [
    "learn.fit_one_cycle(12, max_lr=5e-3, wd=5e-3)"
   ]
  },
  {
   "cell_type": "code",
   "execution_count": null,
   "metadata": {},
   "outputs": [
    {
     "data": {
      "image/png": "[encoded data removed]",
      "text/plain": [
       "<Figure size 432x288 with 1 Axes>"
      ]
     },
     "metadata": {
      "needs_background": "light"
     },
     "output_type": "display_data"
    }
   ],
   "source": [
    "learn.recorder.plot_loss()"
   ]
  },
  {
   "cell_type": "code",
   "execution_count": null,
   "metadata": {},
   "outputs": [],
   "source": [
    "save_model(learn.model, f\"cnn_dim{dim}_t{1}_dm{dm}_11\")"
   ]
  },
  {
   "cell_type": "code",
   "execution_count": null,
   "metadata": {},
   "outputs": [],
   "source": [
    "dim = 1\n",
    "bs = 128\n",
    "ds_path = DATA_PATH/f\"custom_val/custom_{dim}D.pkl\"\n",
    "for dm in range(5):\n",
    "    for k in range(15):\n",
    "        dls = get_custom_dls(target='exp', models=[dm], dim=dim, bs=128, path=ds_path)\n",
    "        cnn = CNNLin(dim, h_size=1024, layers=[1, 1, 1], ks=3, out_p=0.5, stem_szs=(32, 64), \n",
    "                     linear_layers=[200], ps=[0.5], yrange=yranges[dm])\n",
    "        learn = MyLearner(dls, cnn, loss_func=L1LossFlat(), metrics=mae)\n",
    "        learn.fit_one_cycle(20, max_lr=5e-3, wd=1e-4)\n",
    "        \n",
    "        save_model(learn.model, f\"cnn_dim{dim}_t{1}_dm{dm}_{k}_custom\")"
   ]
  },
  {
   "cell_type": "markdown",
   "metadata": {},
   "source": [
    "### Combining classifier with model-specific regressors"
   ]
  },
  {
   "cell_type": "code",
   "execution_count": null,
   "metadata": {},
   "outputs": [],
   "source": [
    "class SpecificRegressor(Module):\n",
    "    def __init__(self, classifier, regressors):\n",
    "        store_attr('classifier,regressors')\n",
    "        \n",
    "    def forward(self, x):\n",
    "        out_class, out_regs = self.classifier(x), self._reg_preds(x)\n",
    "        return out_regs.gather(1, out_class.argmax(1).view(-1,1)).squeeze()\n",
    "        \n",
    "    def _reg_preds(self, x):\n",
    "        return torch.stack([reg(x).squeeze() for reg in self.regressors], dim=1)\n",
    "    \n",
    "    def eval(self):\n",
    "        self.classifier.eval()\n",
    "        for reg in self.regressors: reg.eval()"
   ]
  },
  {
   "cell_type": "code",
   "execution_count": null,
   "metadata": {},
   "outputs": [],
   "source": [
    "dim = 1\n",
    "ds_path = DATA_PATH/f\"custom_val/custom_{dim}D.pkl\"\n",
    "dls = get_custom_dls(target='exp', bs=128, path=ds_path)"
   ]
  },
  {
   "cell_type": "code",
   "execution_count": null,
   "metadata": {},
   "outputs": [],
   "source": [
    "m_id = 6\n",
    "clfs = [load_model(f\"hydra_dim{dim}_t{2}_{m_id}_custom\").cuda()]\n",
    "regs = [load_model(f\"cnn_dim{dim}_t{1}_dm{dm}_{m_id}_custom\").cuda() for dm in range(5)]\n",
    "regs += [load_model(f\"gru_dim{dim}_t{1}_dm{dm}_{m_id}_custom\").cuda() for dm in range(5)]"
   ]
  },
  {
   "cell_type": "code",
   "execution_count": null,
   "metadata": {},
   "outputs": [],
   "source": [
    "h = Hydra([*clfs, *regs], linear_layers=[600, 200], ps=[0.5, 0.4])"
   ]
  },
  {
   "cell_type": "code",
   "execution_count": null,
   "metadata": {},
   "outputs": [],
   "source": [
    "learn = MyLearner(dls, h, loss_func=L1LossFlat(), metrics=mae)"
   ]
  },
  {
   "cell_type": "code",
   "execution_count": null,
   "metadata": {},
   "outputs": [],
   "source": [
    "learn.freeze()"
   ]
  },
  {
   "cell_type": "code",
   "execution_count": null,
   "metadata": {},
   "outputs": [],
   "source": [
    "learn.model.unfreeze_contacts()"
   ]
  },
  {
   "cell_type": "code",
   "execution_count": null,
   "metadata": {},
   "outputs": [
    {
     "data": {
      "text/html": [],
      "text/plain": [
       "<IPython.core.display.HTML object>"
      ]
     },
     "metadata": {},
     "output_type": "display_data"
    },
    {
     "data": {
      "text/plain": [
       "SuggestedLRs(lr_min=0.012022644281387329, lr_steep=3.0199516913853586e-05)"
      ]
     },
     "execution_count": null,
     "metadata": {},
     "output_type": "execute_result"
    },
    {
     "data": {
      "image/png": "[encoded data removed]",
      "text/plain": [
       "<Figure size 432x288 with 1 Axes>"
      ]
     },
     "metadata": {
      "needs_background": "light"
     },
     "output_type": "display_data"
    }
   ],
   "source": [
    "learn.lr_find()"
   ]
  },
  {
   "cell_type": "code",
   "execution_count": null,
   "metadata": {},
   "outputs": [],
   "source": [
    "lrs = (*[1e-7]*len(learn.model.blocks[:-1]), 1e-5)"
   ]
  },
  {
   "cell_type": "code",
   "execution_count": null,
   "metadata": {},
   "outputs": [
    {
     "data": {
      "text/html": [
       "<table border=\"1\" class=\"dataframe\">\n",
       "  <thead>\n",
       "    <tr style=\"text-align: left;\">\n",
       "      <th>epoch</th>\n",
       "      <th>train_loss</th>\n",
       "      <th>valid_loss</th>\n",
       "      <th>mae</th>\n",
       "      <th>time</th>\n",
       "    </tr>\n",
       "  </thead>\n",
       "  <tbody>\n",
       "    <tr>\n",
       "      <td>0</td>\n",
       "      <td>0.195260</td>\n",
       "      <td>0.197801</td>\n",
       "      <td>0.197801</td>\n",
       "      <td>06:34</td>\n",
       "    </tr>\n",
       "    <tr>\n",
       "      <td>1</td>\n",
       "      <td>0.185124</td>\n",
       "      <td>0.181902</td>\n",
       "      <td>0.181902</td>\n",
       "      <td>04:53</td>\n",
       "    </tr>\n",
       "    <tr>\n",
       "      <td>2</td>\n",
       "      <td>0.182134</td>\n",
       "      <td>0.178455</td>\n",
       "      <td>0.178455</td>\n",
       "      <td>07:47</td>\n",
       "    </tr>\n",
       "    <tr>\n",
       "      <td>3</td>\n",
       "      <td>0.172632</td>\n",
       "      <td>0.171232</td>\n",
       "      <td>0.171232</td>\n",
       "      <td>04:55</td>\n",
       "    </tr>\n",
       "    <tr>\n",
       "      <td>4</td>\n",
       "      <td>0.168852</td>\n",
       "      <td>0.171578</td>\n",
       "      <td>0.171578</td>\n",
       "      <td>04:47</td>\n",
       "    </tr>\n",
       "  </tbody>\n",
       "</table>"
      ],
      "text/plain": [
       "<IPython.core.display.HTML object>"
      ]
     },
     "metadata": {},
     "output_type": "display_data"
    }
   ],
   "source": [
    "learn.fit_one_cycle(5, lr_max=1e-2, wd=1e-4)"
   ]
  },
  {
   "cell_type": "code",
   "execution_count": null,
   "metadata": {},
   "outputs": [],
   "source": [
    "save_model(learn.model, f\"hydra_dim{dim}_t{1}_{m_id}_custom\")"
   ]
  },
  {
   "cell_type": "code",
   "execution_count": null,
   "metadata": {},
   "outputs": [],
   "source": [
    "for k in range(13, 20):\n",
    "    dim = 1\n",
    "    dls = get_custom_dls(target='exp')\n",
    "    clf = [load_model(f\"hydra_dim{dim}_t{2}_{i}\").cuda() for i in range(3)]\n",
    "    regs = [load_model(f\"cnn_dim{dim}_t{1}_dm{dm}_{k-10}\").cuda() for dm in range(5)]\n",
    "    regs += [load_model(f\"gru_dim{dim}_t{1}_dm{dm}_{k-10}\").cuda() for dm in range(5)]\n",
    "\n",
    "    h = Hydra([*clf, *regs], linear_layers=[600, 200], ps=[0.5, 0.5])\n",
    "    learn = MyLearner(dls, h, loss_func=L1LossFlat(), metrics=mae)\n",
    "    learn.freeze()\n",
    "    \n",
    "    learn.fit_one_cycle(10, lr_max=1e-2, wd=1e-4)\n",
    "    \n",
    "    save_model(learn.model, f\"hydra_dim{dim}_t{1}_{k}\")"
   ]
  },
  {
   "cell_type": "code",
   "execution_count": null,
   "metadata": {},
   "outputs": [],
   "source": []
  },
  {
   "cell_type": "code",
   "execution_count": null,
   "metadata": {},
   "outputs": [],
   "source": [
    "cl_models = [load_model(f\"hydra_dim{dim}_t{2}_{k}\").cuda() for k in range(10)]\n",
    "clf = Ensemble(cl_models, add_act=True)\n",
    "regs = [Ensemble([load_model(f\"cnn_dim{dim}_t{1}_dm{dm}_{k}\") for k in range(10)]) for dm in range(5)]"
   ]
  },
  {
   "cell_type": "code",
   "execution_count": null,
   "metadata": {},
   "outputs": [],
   "source": [
    "megareg = SpecificRegressor(clf, regs)"
   ]
  },
  {
   "cell_type": "code",
   "execution_count": null,
   "metadata": {},
   "outputs": [],
   "source": [
    "megareg.eval()"
   ]
  },
  {
   "cell_type": "code",
   "execution_count": null,
   "metadata": {},
   "outputs": [],
   "source": [
    "dl = get_validation_dl(1, bs=64, ds='train')"
   ]
  },
  {
   "cell_type": "code",
   "execution_count": null,
   "metadata": {},
   "outputs": [],
   "source": [
    "preds = torch.cat([megareg(xb).detach().cpu() for xb, _ in dl])\n",
    "ys = torch.cat([yb.cpu() for _, yb in dl])"
   ]
  },
  {
   "cell_type": "code",
   "execution_count": null,
   "metadata": {},
   "outputs": [
    {
     "data": {
      "text/plain": [
       "tensor(0.2657, dtype=torch.float64)"
      ]
     },
     "execution_count": null,
     "metadata": {},
     "output_type": "execute_result"
    }
   ],
   "source": [
    "(preds-ys).abs().mean()"
   ]
  },
  {
   "cell_type": "markdown",
   "metadata": {},
   "source": [
    "## Task 2 -- Classification\n",
    "\n",
    "Task 2 consists on identifying the model with which the trajectories have been generated. The task is evaluated with F1 score (micro average). \n",
    "\n",
    "Here we don't have to worry about the output range. We provide an output neuron for each class, which provide the confidence that the trajectory belongs to each of those. For training, the `CrossEntropyLossFlat` already provides the last activation function for us. Nonetheless, we have to actually put the activation and take the argmax for validation. "
   ]
  },
  {
   "cell_type": "markdown",
   "metadata": {},
   "source": [
    "### Based on RNN"
   ]
  },
  {
   "cell_type": "code",
   "execution_count": null,
   "metadata": {},
   "outputs": [],
   "source": [
    "dim = 1\n",
    "dls = get_custom_dls(dim=dim, bs=128, path=ds_path)\n",
    "model = RegLSTMLin(dim, h_size=750, vocab_sz=5, rnn_layers=2, in_p=0., hid_p=0.1, weight_p=0.01, \n",
    "                   out_ps=0.3, linear_layers=[500], ps=[0.4], layer='GRU', act=False, norm=True)\n",
    "learn = RNNLearner(dls, model, loss_func=CrossEntropyLossFlat(), metrics=custom_f1)"
   ]
  },
  {
   "cell_type": "code",
   "execution_count": null,
   "metadata": {},
   "outputs": [
    {
     "data": {
      "text/html": [],
      "text/plain": [
       "<IPython.core.display.HTML object>"
      ]
     },
     "metadata": {},
     "output_type": "display_data"
    },
    {
     "data": {
      "text/plain": [
       "SuggestedLRs(lr_min=0.002754228748381138, lr_steep=0.02290867641568184)"
      ]
     },
     "execution_count": null,
     "metadata": {},
     "output_type": "execute_result"
    },
    {
     "data": {
      "image/png": "[encoded data removed]",
      "text/plain": [
       "<Figure size 432x288 with 1 Axes>"
      ]
     },
     "metadata": {
      "needs_background": "light"
     },
     "output_type": "display_data"
    }
   ],
   "source": [
    "learn.lr_find()"
   ]
  },
  {
   "cell_type": "code",
   "execution_count": null,
   "metadata": {},
   "outputs": [
    {
     "data": {
      "text/html": [
       "<table border=\"1\" class=\"dataframe\">\n",
       "  <thead>\n",
       "    <tr style=\"text-align: left;\">\n",
       "      <th>epoch</th>\n",
       "      <th>train_loss</th>\n",
       "      <th>valid_loss</th>\n",
       "      <th>custom_f1</th>\n",
       "      <th>time</th>\n",
       "    </tr>\n",
       "  </thead>\n",
       "  <tbody>\n",
       "    <tr>\n",
       "      <td>0</td>\n",
       "      <td>1.319991</td>\n",
       "      <td>1.337057</td>\n",
       "      <td>0.448915</td>\n",
       "      <td>03:22</td>\n",
       "    </tr>\n",
       "    <tr>\n",
       "      <td>1</td>\n",
       "      <td>1.019266</td>\n",
       "      <td>1.102618</td>\n",
       "      <td>0.565168</td>\n",
       "      <td>03:28</td>\n",
       "    </tr>\n",
       "    <tr>\n",
       "      <td>2</td>\n",
       "      <td>0.837142</td>\n",
       "      <td>1.008621</td>\n",
       "      <td>0.621064</td>\n",
       "      <td>03:45</td>\n",
       "    </tr>\n",
       "    <tr>\n",
       "      <td>3</td>\n",
       "      <td>0.727241</td>\n",
       "      <td>0.838847</td>\n",
       "      <td>0.672411</td>\n",
       "      <td>03:52</td>\n",
       "    </tr>\n",
       "    <tr>\n",
       "      <td>4</td>\n",
       "      <td>0.660354</td>\n",
       "      <td>0.757626</td>\n",
       "      <td>0.712517</td>\n",
       "      <td>03:23</td>\n",
       "    </tr>\n",
       "    <tr>\n",
       "      <td>5</td>\n",
       "      <td>0.623593</td>\n",
       "      <td>0.692155</td>\n",
       "      <td>0.715623</td>\n",
       "      <td>03:26</td>\n",
       "    </tr>\n",
       "    <tr>\n",
       "      <td>6</td>\n",
       "      <td>0.508775</td>\n",
       "      <td>0.606187</td>\n",
       "      <td>0.756386</td>\n",
       "      <td>03:24</td>\n",
       "    </tr>\n",
       "    <tr>\n",
       "      <td>7</td>\n",
       "      <td>0.536550</td>\n",
       "      <td>1.024291</td>\n",
       "      <td>0.584062</td>\n",
       "      <td>03:18</td>\n",
       "    </tr>\n",
       "    <tr>\n",
       "      <td>8</td>\n",
       "      <td>0.615358</td>\n",
       "      <td>0.507797</td>\n",
       "      <td>0.790150</td>\n",
       "      <td>03:28</td>\n",
       "    </tr>\n",
       "    <tr>\n",
       "      <td>9</td>\n",
       "      <td>0.879129</td>\n",
       "      <td>0.673317</td>\n",
       "      <td>0.723189</td>\n",
       "      <td>03:46</td>\n",
       "    </tr>\n",
       "    <tr>\n",
       "      <td>10</td>\n",
       "      <td>2.092979</td>\n",
       "      <td>1.955845</td>\n",
       "      <td>0.225770</td>\n",
       "      <td>03:38</td>\n",
       "    </tr>\n",
       "    <tr>\n",
       "      <td>11</td>\n",
       "      <td>1.086431</td>\n",
       "      <td>0.895678</td>\n",
       "      <td>0.617127</td>\n",
       "      <td>03:47</td>\n",
       "    </tr>\n",
       "    <tr>\n",
       "      <td>12</td>\n",
       "      <td>0.611554</td>\n",
       "      <td>0.587008</td>\n",
       "      <td>0.780266</td>\n",
       "      <td>03:20</td>\n",
       "    </tr>\n",
       "    <tr>\n",
       "      <td>13</td>\n",
       "      <td>0.454296</td>\n",
       "      <td>0.470878</td>\n",
       "      <td>0.807514</td>\n",
       "      <td>04:17</td>\n",
       "    </tr>\n",
       "    <tr>\n",
       "      <td>14</td>\n",
       "      <td>0.405729</td>\n",
       "      <td>0.461853</td>\n",
       "      <td>0.810794</td>\n",
       "      <td>03:21</td>\n",
       "    </tr>\n",
       "    <tr>\n",
       "      <td>15</td>\n",
       "      <td>0.352262</td>\n",
       "      <td>0.418286</td>\n",
       "      <td>0.831263</td>\n",
       "      <td>03:28</td>\n",
       "    </tr>\n",
       "    <tr>\n",
       "      <td>16</td>\n",
       "      <td>0.405291</td>\n",
       "      <td>0.398864</td>\n",
       "      <td>0.836162</td>\n",
       "      <td>03:14</td>\n",
       "    </tr>\n",
       "    <tr>\n",
       "      <td>17</td>\n",
       "      <td>0.346166</td>\n",
       "      <td>0.405226</td>\n",
       "      <td>0.835506</td>\n",
       "      <td>03:22</td>\n",
       "    </tr>\n",
       "    <tr>\n",
       "      <td>18</td>\n",
       "      <td>0.285689</td>\n",
       "      <td>0.398116</td>\n",
       "      <td>0.839179</td>\n",
       "      <td>03:34</td>\n",
       "    </tr>\n",
       "    <tr>\n",
       "      <td>19</td>\n",
       "      <td>0.333405</td>\n",
       "      <td>0.414276</td>\n",
       "      <td>0.832182</td>\n",
       "      <td>03:25</td>\n",
       "    </tr>\n",
       "    <tr>\n",
       "      <td>20</td>\n",
       "      <td>0.332226</td>\n",
       "      <td>0.393513</td>\n",
       "      <td>0.841279</td>\n",
       "      <td>03:18</td>\n",
       "    </tr>\n",
       "    <tr>\n",
       "      <td>21</td>\n",
       "      <td>0.308629</td>\n",
       "      <td>0.386931</td>\n",
       "      <td>0.841672</td>\n",
       "      <td>03:23</td>\n",
       "    </tr>\n",
       "    <tr>\n",
       "      <td>22</td>\n",
       "      <td>0.298822</td>\n",
       "      <td>0.383227</td>\n",
       "      <td>0.844734</td>\n",
       "      <td>03:23</td>\n",
       "    </tr>\n",
       "    <tr>\n",
       "      <td>23</td>\n",
       "      <td>0.333149</td>\n",
       "      <td>0.390759</td>\n",
       "      <td>0.841541</td>\n",
       "      <td>03:23</td>\n",
       "    </tr>\n",
       "    <tr>\n",
       "      <td>24</td>\n",
       "      <td>0.277484</td>\n",
       "      <td>0.398601</td>\n",
       "      <td>0.843903</td>\n",
       "      <td>03:21</td>\n",
       "    </tr>\n",
       "  </tbody>\n",
       "</table>"
      ],
      "text/plain": [
       "<IPython.core.display.HTML object>"
      ]
     },
     "metadata": {},
     "output_type": "display_data"
    }
   ],
   "source": [
    "learn.fit_one_cycle(25, max_lr=1e-3, wd=2e-4)"
   ]
  },
  {
   "cell_type": "code",
   "execution_count": null,
   "metadata": {},
   "outputs": [
    {
     "data": {
      "image/png": "[encoded data removed]",
      "text/plain": [
       "<Figure size 432x288 with 1 Axes>"
      ]
     },
     "metadata": {
      "needs_background": "light"
     },
     "output_type": "display_data"
    }
   ],
   "source": [
    "learn.recorder.plot_loss()"
   ]
  },
  {
   "cell_type": "code",
   "execution_count": null,
   "metadata": {},
   "outputs": [],
   "source": [
    "save_model(learn.model, f\"gru_dim{dim}_t{2}_5\")"
   ]
  },
  {
   "cell_type": "code",
   "execution_count": null,
   "metadata": {},
   "outputs": [],
   "source": [
    "for k in range(10):\n",
    "    dim = 1\n",
    "    dls = get_custom_dls(dim=dim, bs=128, path=ds_path)\n",
    "    model = RegLSTMLin(dim, h_size=550, vocab_sz=5, rnn_layers=2, in_p=0., hid_p=0.1, weight_p=0.01, \n",
    "                       out_ps=0.3, linear_layers=[500], ps=[0.4], layer='GRU', act=False)\n",
    "    learn = RNNLearner(dls, model, loss_func=CrossEntropyLossFlat(), metrics=custom_f1)\n",
    "    learn.fit_one_cycle(25, max_lr=1e-3, wd=2e-4)\n",
    "    save_model(learn.model, f\"gru_dim{dim}_t{2}_{k}_custom\")"
   ]
  },
  {
   "cell_type": "markdown",
   "metadata": {},
   "source": [
    "### Based on CNN"
   ]
  },
  {
   "cell_type": "code",
   "execution_count": null,
   "metadata": {},
   "outputs": [],
   "source": [
    "dim = 1\n",
    "dls = get_1vall_dls()\n",
    "# dls = get_custom_dls(target='model', dim=dim, bs=256)\n",
    "# dls = get_discriminative_dls(2, bs=128)\n",
    "model = CNNLin(dim, vocab_sz=2, ks=3, out_p=0.5, linear_layers=[200], ps=[0.5], act=False)\n",
    "learn = MyLearner(dls, model, loss_func=CrossEntropyLossFlat(weight=tensor([2., 1.]).cuda()), metrics=partial(custom_f1, avg='binary'))"
   ]
  },
  {
   "cell_type": "code",
   "execution_count": null,
   "metadata": {},
   "outputs": [
    {
     "data": {
      "text/html": [],
      "text/plain": [
       "<IPython.core.display.HTML object>"
      ]
     },
     "metadata": {},
     "output_type": "display_data"
    },
    {
     "data": {
      "text/plain": [
       "SuggestedLRs(lr_min=0.012022644281387329, lr_steep=0.10000000149011612)"
      ]
     },
     "execution_count": null,
     "metadata": {},
     "output_type": "execute_result"
    },
    {
     "data": {
      "image/png": "[encoded data removed]",
      "text/plain": [
       "<Figure size 432x288 with 1 Axes>"
      ]
     },
     "metadata": {
      "needs_background": "light"
     },
     "output_type": "display_data"
    }
   ],
   "source": [
    "learn.lr_find()"
   ]
  },
  {
   "cell_type": "code",
   "execution_count": null,
   "metadata": {},
   "outputs": [
    {
     "data": {
      "text/html": [
       "<table border=\"1\" class=\"dataframe\">\n",
       "  <thead>\n",
       "    <tr style=\"text-align: left;\">\n",
       "      <th>epoch</th>\n",
       "      <th>train_loss</th>\n",
       "      <th>valid_loss</th>\n",
       "      <th>custom_f1</th>\n",
       "      <th>time</th>\n",
       "    </tr>\n",
       "  </thead>\n",
       "  <tbody>\n",
       "    <tr>\n",
       "      <td>0</td>\n",
       "      <td>0.162888</td>\n",
       "      <td>0.204413</td>\n",
       "      <td>0.676031</td>\n",
       "      <td>00:17</td>\n",
       "    </tr>\n",
       "    <tr>\n",
       "      <td>1</td>\n",
       "      <td>0.157088</td>\n",
       "      <td>0.182137</td>\n",
       "      <td>0.674611</td>\n",
       "      <td>00:17</td>\n",
       "    </tr>\n",
       "    <tr>\n",
       "      <td>2</td>\n",
       "      <td>0.155409</td>\n",
       "      <td>0.182397</td>\n",
       "      <td>0.681415</td>\n",
       "      <td>00:17</td>\n",
       "    </tr>\n",
       "    <tr>\n",
       "      <td>3</td>\n",
       "      <td>0.157977</td>\n",
       "      <td>0.209608</td>\n",
       "      <td>0.686366</td>\n",
       "      <td>00:17</td>\n",
       "    </tr>\n",
       "    <tr>\n",
       "      <td>4</td>\n",
       "      <td>0.142345</td>\n",
       "      <td>0.179768</td>\n",
       "      <td>0.697007</td>\n",
       "      <td>00:17</td>\n",
       "    </tr>\n",
       "  </tbody>\n",
       "</table>"
      ],
      "text/plain": [
       "<IPython.core.display.HTML object>"
      ]
     },
     "metadata": {},
     "output_type": "display_data"
    }
   ],
   "source": [
    "learn.fit_one_cycle(5, max_lr=5e-8, wd=1e-4)"
   ]
  },
  {
   "cell_type": "code",
   "execution_count": null,
   "metadata": {},
   "outputs": [
    {
     "data": {
      "image/png": "[encoded data removed]",
      "text/plain": [
       "<Figure size 432x288 with 1 Axes>"
      ]
     },
     "metadata": {
      "needs_background": "light"
     },
     "output_type": "display_data"
    }
   ],
   "source": [
    "learn.recorder.plot_loss()"
   ]
  },
  {
   "cell_type": "code",
   "execution_count": null,
   "metadata": {},
   "outputs": [],
   "source": [
    "save_model(learn.model, f\"cnn_dim{dim}_t{2}_1vall\")"
   ]
  },
  {
   "cell_type": "code",
   "execution_count": null,
   "metadata": {},
   "outputs": [],
   "source": [
    "dim = 1\n",
    "bs = 128\n",
    "ds_path = DATA_PATH/f\"custom_val/custom_{dim}D.pkl\""
   ]
  },
  {
   "cell_type": "code",
   "execution_count": null,
   "metadata": {},
   "outputs": [],
   "source": [
    "dls = get_custom_dls(dim=dim, bs=128, path=ds_path)"
   ]
  },
  {
   "cell_type": "code",
   "execution_count": null,
   "metadata": {},
   "outputs": [],
   "source": [
    "xb, yb = dls.one_batch()"
   ]
  },
  {
   "cell_type": "code",
   "execution_count": null,
   "metadata": {},
   "outputs": [],
   "source": [
    "cnn = CNNLin(dim, vocab_sz=5, h_size=1024, layers=[1, 1, 1], ks=3, out_p=0.5, stem_szs=(32, 64), \n",
    "             linear_layers=[500], ps=[0.5], act=False)"
   ]
  },
  {
   "cell_type": "code",
   "execution_count": null,
   "metadata": {},
   "outputs": [],
   "source": [
    "# dls = get_custom_dls(dim=dim, bs=128, path=ds_path)\n",
    "# cnn = CNNLin(dim, vocab_sz=5, h_size=1024, layers=[1, 1, 1], ks=3, out_p=0.5, stem_szs=(32, 64), \n",
    "#              linear_layers=[500], ps=[0.5], act=False)\n",
    "learn = MyLearner(dls, cnn, loss_func=CrossEntropyLossFlat(), metrics=custom_f1)"
   ]
  },
  {
   "cell_type": "code",
   "execution_count": null,
   "metadata": {},
   "outputs": [
    {
     "data": {
      "text/html": [],
      "text/plain": [
       "<IPython.core.display.HTML object>"
      ]
     },
     "metadata": {},
     "output_type": "display_data"
    },
    {
     "data": {
      "text/plain": [
       "SuggestedLRs(lr_min=0.0033113110810518267, lr_steep=1.9054607491852948e-06)"
      ]
     },
     "execution_count": null,
     "metadata": {},
     "output_type": "execute_result"
    },
    {
     "data": {
      "image/png": "[encoded data removed]",
      "text/plain": [
       "<Figure size 432x288 with 1 Axes>"
      ]
     },
     "metadata": {
      "needs_background": "light"
     },
     "output_type": "display_data"
    }
   ],
   "source": [
    "learn.lr_find()"
   ]
  },
  {
   "cell_type": "code",
   "execution_count": null,
   "metadata": {},
   "outputs": [
    {
     "data": {
      "text/html": [
       "<table border=\"1\" class=\"dataframe\">\n",
       "  <thead>\n",
       "    <tr style=\"text-align: left;\">\n",
       "      <th>epoch</th>\n",
       "      <th>train_loss</th>\n",
       "      <th>valid_loss</th>\n",
       "      <th>custom_f1</th>\n",
       "      <th>time</th>\n",
       "    </tr>\n",
       "  </thead>\n",
       "  <tbody>\n",
       "    <tr>\n",
       "      <td>0</td>\n",
       "      <td>1.380997</td>\n",
       "      <td>1.281247</td>\n",
       "      <td>0.457650</td>\n",
       "      <td>00:13</td>\n",
       "    </tr>\n",
       "    <tr>\n",
       "      <td>1</td>\n",
       "      <td>1.062137</td>\n",
       "      <td>0.971720</td>\n",
       "      <td>0.583300</td>\n",
       "      <td>00:13</td>\n",
       "    </tr>\n",
       "    <tr>\n",
       "      <td>2</td>\n",
       "      <td>0.841357</td>\n",
       "      <td>1.083368</td>\n",
       "      <td>0.515250</td>\n",
       "      <td>00:13</td>\n",
       "    </tr>\n",
       "    <tr>\n",
       "      <td>3</td>\n",
       "      <td>0.753929</td>\n",
       "      <td>0.991542</td>\n",
       "      <td>0.566750</td>\n",
       "      <td>00:13</td>\n",
       "    </tr>\n",
       "    <tr>\n",
       "      <td>4</td>\n",
       "      <td>0.679901</td>\n",
       "      <td>1.165440</td>\n",
       "      <td>0.503350</td>\n",
       "      <td>00:13</td>\n",
       "    </tr>\n",
       "    <tr>\n",
       "      <td>5</td>\n",
       "      <td>0.621283</td>\n",
       "      <td>0.968554</td>\n",
       "      <td>0.596650</td>\n",
       "      <td>00:13</td>\n",
       "    </tr>\n",
       "    <tr>\n",
       "      <td>6</td>\n",
       "      <td>0.581987</td>\n",
       "      <td>0.616591</td>\n",
       "      <td>0.751050</td>\n",
       "      <td>00:13</td>\n",
       "    </tr>\n",
       "    <tr>\n",
       "      <td>7</td>\n",
       "      <td>0.539689</td>\n",
       "      <td>0.621851</td>\n",
       "      <td>0.747300</td>\n",
       "      <td>00:13</td>\n",
       "    </tr>\n",
       "    <tr>\n",
       "      <td>8</td>\n",
       "      <td>0.534700</td>\n",
       "      <td>0.625529</td>\n",
       "      <td>0.736750</td>\n",
       "      <td>00:13</td>\n",
       "    </tr>\n",
       "    <tr>\n",
       "      <td>9</td>\n",
       "      <td>0.507687</td>\n",
       "      <td>0.715791</td>\n",
       "      <td>0.722300</td>\n",
       "      <td>00:13</td>\n",
       "    </tr>\n",
       "    <tr>\n",
       "      <td>10</td>\n",
       "      <td>0.509228</td>\n",
       "      <td>0.571456</td>\n",
       "      <td>0.771000</td>\n",
       "      <td>00:13</td>\n",
       "    </tr>\n",
       "    <tr>\n",
       "      <td>11</td>\n",
       "      <td>0.523125</td>\n",
       "      <td>0.611941</td>\n",
       "      <td>0.750400</td>\n",
       "      <td>00:12</td>\n",
       "    </tr>\n",
       "    <tr>\n",
       "      <td>12</td>\n",
       "      <td>0.504910</td>\n",
       "      <td>0.548790</td>\n",
       "      <td>0.780800</td>\n",
       "      <td>00:13</td>\n",
       "    </tr>\n",
       "    <tr>\n",
       "      <td>13</td>\n",
       "      <td>0.471914</td>\n",
       "      <td>0.527261</td>\n",
       "      <td>0.785950</td>\n",
       "      <td>00:13</td>\n",
       "    </tr>\n",
       "    <tr>\n",
       "      <td>14</td>\n",
       "      <td>0.455810</td>\n",
       "      <td>0.506794</td>\n",
       "      <td>0.796350</td>\n",
       "      <td>00:14</td>\n",
       "    </tr>\n",
       "    <tr>\n",
       "      <td>15</td>\n",
       "      <td>0.431665</td>\n",
       "      <td>0.501328</td>\n",
       "      <td>0.797800</td>\n",
       "      <td>00:13</td>\n",
       "    </tr>\n",
       "    <tr>\n",
       "      <td>16</td>\n",
       "      <td>0.417377</td>\n",
       "      <td>0.481451</td>\n",
       "      <td>0.806450</td>\n",
       "      <td>00:12</td>\n",
       "    </tr>\n",
       "    <tr>\n",
       "      <td>17</td>\n",
       "      <td>0.425251</td>\n",
       "      <td>0.484649</td>\n",
       "      <td>0.806850</td>\n",
       "      <td>00:13</td>\n",
       "    </tr>\n",
       "    <tr>\n",
       "      <td>18</td>\n",
       "      <td>0.430871</td>\n",
       "      <td>0.478246</td>\n",
       "      <td>0.807850</td>\n",
       "      <td>00:13</td>\n",
       "    </tr>\n",
       "    <tr>\n",
       "      <td>19</td>\n",
       "      <td>0.415078</td>\n",
       "      <td>0.480386</td>\n",
       "      <td>0.806900</td>\n",
       "      <td>00:13</td>\n",
       "    </tr>\n",
       "  </tbody>\n",
       "</table>"
      ],
      "text/plain": [
       "<IPython.core.display.HTML object>"
      ]
     },
     "metadata": {},
     "output_type": "display_data"
    }
   ],
   "source": [
    "learn.fit_one_cycle(20, max_lr=2e-3, wd=5e-4)"
   ]
  },
  {
   "cell_type": "code",
   "execution_count": null,
   "metadata": {},
   "outputs": [
    {
     "data": {
      "image/png": "[encoded data removed]",
      "text/plain": [
       "<Figure size 432x288 with 1 Axes>"
      ]
     },
     "metadata": {
      "needs_background": "light"
     },
     "output_type": "display_data"
    }
   ],
   "source": [
    "learn.recorder.plot_loss()"
   ]
  },
  {
   "cell_type": "code",
   "execution_count": null,
   "metadata": {},
   "outputs": [],
   "source": [
    "dim = 1\n",
    "bs = 128\n",
    "ds_path = DATA_PATH/f\"custom_val/custom_{dim}D.pkl\"\n",
    "for k in range(10):\n",
    "    dls = get_custom_dls(target='model', dim=dim, bs=128, path=ds_path)\n",
    "    cnn = CNNLin(dim, vocab_sz=5, h_size=1024, layers=[1, 1, 1], ks=3, out_p=0.5, stem_szs=(32, 64), \n",
    "                 linear_layers=[512], ps=[0.5], act=False)\n",
    "    learn = MyLearner(dls, cnn, loss_func=CrossEntropyLossFlat(), metrics=custom_f1)\n",
    "    learn.fit_one_cycle(25, max_lr=3e-3, wd=5e-4)\n",
    "\n",
    "    save_model(learn.model, f\"cnn_dim{dim}_t{2}_dm{dm}_{k}_custom\")"
   ]
  },
  {
   "cell_type": "markdown",
   "metadata": {},
   "source": [
    "### Combining RNN with CNN"
   ]
  },
  {
   "cell_type": "code",
   "execution_count": null,
   "metadata": {},
   "outputs": [],
   "source": [
    "dim = 1\n",
    "dls = get_custom_dls(target='model', dim=dim, bs=256)\n",
    "rnn_cnn = RNNCNNClassifier(dim, vocab_sz=5, rnn_layers=2, in_p=0., rnn_p=0.1, w_p=0.01, out_p=0.3, cnn_h=1024, linear_layers=[500, 200], ps=[0.4, 0.4], act=False)\n",
    "learn = RNNLearner(dls, rnn_cnn, loss_func=CrossEntropyLossFlat(), metrics=custom_f1)"
   ]
  },
  {
   "cell_type": "code",
   "execution_count": null,
   "metadata": {},
   "outputs": [],
   "source": [
    "learn.lr_find()"
   ]
  },
  {
   "cell_type": "code",
   "execution_count": null,
   "metadata": {},
   "outputs": [],
   "source": [
    "learn.fit_one_cycle(40, max_lr=2e-3, wd=1e-4)"
   ]
  },
  {
   "cell_type": "code",
   "execution_count": null,
   "metadata": {},
   "outputs": [],
   "source": [
    "learn.recorder.plot_loss()"
   ]
  },
  {
   "cell_type": "code",
   "execution_count": null,
   "metadata": {},
   "outputs": [],
   "source": [
    "save_model(learn.model, f\"rnncnn_dim{dim}_t{2}_norm\")"
   ]
  },
  {
   "cell_type": "code",
   "execution_count": null,
   "metadata": {},
   "outputs": [],
   "source": [
    "validate_task([learn.model], 2, [1], act=True)"
   ]
  },
  {
   "cell_type": "code",
   "execution_count": null,
   "metadata": {},
   "outputs": [],
   "source": [
    "for k in range(10):\n",
    "    dim = 1\n",
    "    dls = get_custom_dls(target='model', dim=dim, bs=256, path=ds_path)\n",
    "    rnn_cnn = RNNCNNClassifier(dim, vocab_sz=5, rnn_layers=2, in_p=0., rnn_p=0.1, w_p=0.01, out_p=0.3, cnn_h=1024, linear_layers=[500, 200], ps=[0.4, 0.4], act=False)\n",
    "    learn = RNNLearner(dls, rnn_cnn, loss_func=CrossEntropyLossFlat(), metrics=custom_f1)\n",
    "    learn.fit_one_cycle(40, max_lr=2e-3, wd=1e-4)\n",
    "    save_model(learn.model, f\"rnncnn_dim{dim}_t{2}_{k}_custom\")"
   ]
  },
  {
   "cell_type": "markdown",
   "metadata": {},
   "source": [
    "#### Hydra"
   ]
  },
  {
   "cell_type": "code",
   "execution_count": null,
   "metadata": {},
   "outputs": [],
   "source": [
    "dim = 1\n",
    "m_id = 9\n",
    "dls = get_custom_dls(target='model', dim=dim, bs=128, path=ds_path)\n",
    "cnn = load_model(f\"cnn_dim{dim}_t{2}_{m_id}_custom\")\n",
    "rnn = load_model(f\"gru_dim{dim}_t{2}_{m_id}_custom\")\n",
    "hydra = Hydra([rnn, cnn], vocab_sz=5, out_ps=0.4, linear_layers=[200], ps=[0.4], act=False)"
   ]
  },
  {
   "cell_type": "code",
   "execution_count": null,
   "metadata": {},
   "outputs": [],
   "source": [
    "learn = MyLearner(dls, hydra, loss_func=CrossEntropyLossFlat(), metrics=custom_f1)"
   ]
  },
  {
   "cell_type": "code",
   "execution_count": null,
   "metadata": {},
   "outputs": [],
   "source": [
    "learn.freeze()"
   ]
  },
  {
   "cell_type": "code",
   "execution_count": null,
   "metadata": {},
   "outputs": [],
   "source": [
    "learn.lr_find()"
   ]
  },
  {
   "cell_type": "code",
   "execution_count": null,
   "metadata": {},
   "outputs": [
    {
     "data": {
      "text/html": [
       "<table border=\"1\" class=\"dataframe\">\n",
       "  <thead>\n",
       "    <tr style=\"text-align: left;\">\n",
       "      <th>epoch</th>\n",
       "      <th>train_loss</th>\n",
       "      <th>valid_loss</th>\n",
       "      <th>custom_f1</th>\n",
       "      <th>time</th>\n",
       "    </tr>\n",
       "  </thead>\n",
       "  <tbody>\n",
       "    <tr>\n",
       "      <td>0</td>\n",
       "      <td>0.309506</td>\n",
       "      <td>0.366671</td>\n",
       "      <td>0.853600</td>\n",
       "      <td>00:50</td>\n",
       "    </tr>\n",
       "    <tr>\n",
       "      <td>1</td>\n",
       "      <td>0.326704</td>\n",
       "      <td>0.340782</td>\n",
       "      <td>0.863400</td>\n",
       "      <td>00:50</td>\n",
       "    </tr>\n",
       "    <tr>\n",
       "      <td>2</td>\n",
       "      <td>0.276701</td>\n",
       "      <td>0.379577</td>\n",
       "      <td>0.871100</td>\n",
       "      <td>00:51</td>\n",
       "    </tr>\n",
       "    <tr>\n",
       "      <td>3</td>\n",
       "      <td>0.262905</td>\n",
       "      <td>0.379361</td>\n",
       "      <td>0.869800</td>\n",
       "      <td>00:51</td>\n",
       "    </tr>\n",
       "    <tr>\n",
       "      <td>4</td>\n",
       "      <td>0.291160</td>\n",
       "      <td>0.334358</td>\n",
       "      <td>0.873950</td>\n",
       "      <td>00:49</td>\n",
       "    </tr>\n",
       "    <tr>\n",
       "      <td>5</td>\n",
       "      <td>0.239766</td>\n",
       "      <td>0.383116</td>\n",
       "      <td>0.871200</td>\n",
       "      <td>00:50</td>\n",
       "    </tr>\n",
       "    <tr>\n",
       "      <td>6</td>\n",
       "      <td>0.277806</td>\n",
       "      <td>0.328986</td>\n",
       "      <td>0.878850</td>\n",
       "      <td>00:50</td>\n",
       "    </tr>\n",
       "    <tr>\n",
       "      <td>7</td>\n",
       "      <td>0.250937</td>\n",
       "      <td>0.336327</td>\n",
       "      <td>0.879150</td>\n",
       "      <td>00:51</td>\n",
       "    </tr>\n",
       "    <tr>\n",
       "      <td>8</td>\n",
       "      <td>0.260357</td>\n",
       "      <td>0.318925</td>\n",
       "      <td>0.880850</td>\n",
       "      <td>00:50</td>\n",
       "    </tr>\n",
       "    <tr>\n",
       "      <td>9</td>\n",
       "      <td>0.281488</td>\n",
       "      <td>0.322537</td>\n",
       "      <td>0.879700</td>\n",
       "      <td>00:49</td>\n",
       "    </tr>\n",
       "  </tbody>\n",
       "</table>"
      ],
      "text/plain": [
       "<IPython.core.display.HTML object>"
      ]
     },
     "metadata": {},
     "output_type": "display_data"
    }
   ],
   "source": [
    "learn.fit_one_cycle(10, lr_max=1e-2, wd=5e-4)"
   ]
  },
  {
   "cell_type": "code",
   "execution_count": null,
   "metadata": {},
   "outputs": [],
   "source": [
    "save_model(learn.model, f\"hydra_dim{dim}_t{2}_{m_id}_custom\")"
   ]
  },
  {
   "cell_type": "code",
   "execution_count": null,
   "metadata": {},
   "outputs": [],
   "source": [
    "for block in learn.model.blocks[:-1]: \n",
    "    for b in block.blocks: \n",
    "        block.train()"
   ]
  },
  {
   "cell_type": "code",
   "execution_count": null,
   "metadata": {},
   "outputs": [
    {
     "data": {
      "text/html": [
       "<table border=\"1\" class=\"dataframe\">\n",
       "  <thead>\n",
       "    <tr style=\"text-align: left;\">\n",
       "      <th>epoch</th>\n",
       "      <th>train_loss</th>\n",
       "      <th>valid_loss</th>\n",
       "      <th>custom_f1</th>\n",
       "      <th>time</th>\n",
       "    </tr>\n",
       "  </thead>\n",
       "  <tbody>\n",
       "    <tr>\n",
       "      <td>0</td>\n",
       "      <td>0.263605</td>\n",
       "      <td>0.338352</td>\n",
       "      <td>0.878600</td>\n",
       "      <td>00:53</td>\n",
       "    </tr>\n",
       "    <tr>\n",
       "      <td>1</td>\n",
       "      <td>0.268932</td>\n",
       "      <td>0.326212</td>\n",
       "      <td>0.880200</td>\n",
       "      <td>00:49</td>\n",
       "    </tr>\n",
       "    <tr>\n",
       "      <td>2</td>\n",
       "      <td>0.240117</td>\n",
       "      <td>0.315198</td>\n",
       "      <td>0.880750</td>\n",
       "      <td>00:52</td>\n",
       "    </tr>\n",
       "    <tr>\n",
       "      <td>3</td>\n",
       "      <td>0.244807</td>\n",
       "      <td>0.309459</td>\n",
       "      <td>0.882250</td>\n",
       "      <td>00:51</td>\n",
       "    </tr>\n",
       "    <tr>\n",
       "      <td>4</td>\n",
       "      <td>0.253026</td>\n",
       "      <td>0.311218</td>\n",
       "      <td>0.881750</td>\n",
       "      <td>00:50</td>\n",
       "    </tr>\n",
       "  </tbody>\n",
       "</table>"
      ],
      "text/plain": [
       "<IPython.core.display.HTML object>"
      ]
     },
     "metadata": {},
     "output_type": "display_data"
    }
   ],
   "source": [
    "learn.fit_one_cycle(5, lr_max=(1e-7, 1e-7, 1e-5), wd=5e-4)"
   ]
  },
  {
   "cell_type": "code",
   "execution_count": null,
   "metadata": {},
   "outputs": [],
   "source": [
    "save_model(learn.model, f\"hydra_dim{dim}_t{2}_{m_id}_custom\")"
   ]
  },
  {
   "cell_type": "markdown",
   "metadata": {},
   "source": [
    "## Task 3 -- Truning point + previous tasks\n",
    "Being 18:20 on the last day, we'll opt to train a regressor that predicts the turning point of the trajectories and try to make the best out of the previous models to provide the model and exponent of each part. \n",
    "\n",
    "Ideally we'd like to do something more elaborate, such as posing the problem as a segmentation problem with a unet. However, sine we have to prototype this in just a few hours, we're restricting ourselves to use a CNN with a single output. "
   ]
  },
  {
   "cell_type": "markdown",
   "metadata": {},
   "source": [
    "### Turning point"
   ]
  },
  {
   "cell_type": "code",
   "execution_count": null,
   "metadata": {},
   "outputs": [],
   "source": [
    "dim, bs = 1, 256\n",
    "dls = get_turning_point_dls(dim=dim, bs=bs)"
   ]
  },
  {
   "cell_type": "code",
   "execution_count": null,
   "metadata": {},
   "outputs": [],
   "source": [
    "cor = CNNonRNN(1, yrange=(0, 200))"
   ]
  },
  {
   "cell_type": "code",
   "execution_count": null,
   "metadata": {},
   "outputs": [],
   "source": [
    "learn = MyLearner(dls, cor, loss_func=MSELossFlat(), metrics=rmse)"
   ]
  },
  {
   "cell_type": "code",
   "execution_count": null,
   "metadata": {},
   "outputs": [
    {
     "data": {
      "text/html": [],
      "text/plain": [
       "<IPython.core.display.HTML object>"
      ]
     },
     "metadata": {},
     "output_type": "display_data"
    },
    {
     "data": {
      "text/plain": [
       "SuggestedLRs(lr_min=6.309573450380412e-08, lr_steep=7.585775847473997e-07)"
      ]
     },
     "execution_count": null,
     "metadata": {},
     "output_type": "execute_result"
    },
    {
     "data": {
      "image/png": "[encoded data removed]",
      "text/plain": [
       "<Figure size 432x288 with 1 Axes>"
      ]
     },
     "metadata": {
      "needs_background": "light"
     },
     "output_type": "display_data"
    }
   ],
   "source": [
    "learn.lr_find()"
   ]
  },
  {
   "cell_type": "code",
   "execution_count": null,
   "metadata": {},
   "outputs": [],
   "source": [
    "learn.fit_one_cycle(15, lr_max=2e-2, wd=1e-4)"
   ]
  },
  {
   "cell_type": "code",
   "execution_count": null,
   "metadata": {},
   "outputs": [],
   "source": []
  },
  {
   "cell_type": "code",
   "execution_count": null,
   "metadata": {},
   "outputs": [],
   "source": []
  }
 ],
 "metadata": {
  "kernelspec": {
   "display_name": "Python [conda env:root] *",
   "language": "python",
   "name": "conda-root-py"
  }
 },
 "nbformat": 4,
 "nbformat_minor": 4
}
