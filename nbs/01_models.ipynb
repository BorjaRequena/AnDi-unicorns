{
 "cells": [
  {
   "cell_type": "code",
   "execution_count": null,
   "metadata": {},
   "outputs": [],
   "source": [
    "#default_exp models"
   ]
  },
  {
   "cell_type": "code",
   "execution_count": null,
   "metadata": {},
   "outputs": [],
   "source": [
    "#export\n",
    "from fastai.text.all import *\n",
    "from fastai.vision.all import *"
   ]
  },
  {
   "cell_type": "code",
   "execution_count": null,
   "metadata": {},
   "outputs": [],
   "source": [
    "#hide\n",
    "%load_ext autoreload\n",
    "%autoreload 2"
   ]
  },
  {
   "cell_type": "markdown",
   "metadata": {},
   "source": [
    "# Models\n",
    "> Here we define the different models"
   ]
  },
  {
   "cell_type": "markdown",
   "metadata": {},
   "source": [
    "## Utility layers\n",
    "Simple functionalities for the models."
   ]
  },
  {
   "cell_type": "code",
   "execution_count": null,
   "metadata": {},
   "outputs": [],
   "source": [
    "#export\n",
    "def mask_normalisation(x, mask):\n",
    "    \"Normalises each trajectory without taking the mask into account\"\n",
    "    lens = x.shape[1] - mask.sum(dim=1) + 1\n",
    "    x_with_0 = x.masked_fill(mask, 0)\n",
    "    mean = x_with_0.sum(dim=1).div_(lens.type(x_with_0.type()))\n",
    "    x_diff = (x - mean.unsqueeze(-1)).masked_fill(mask, 0)\n",
    "    sd = x_diff.pow(2).sum(1).div(lens.type(x_with_0.type()) - 1).sqrt()\n",
    "    return x_diff.div_(sd.unsqueeze(-1))\n",
    "\n",
    "def mask_concat_pool(output, mask):\n",
    "    \"Pool output of RNN with padding mask into one tensor [last_pool, avg_pool, max_pool]\"\n",
    "    lens = output.shape[1] - mask.sum(dim=1) + 1\n",
    "    out_with_0 = output.masked_fill(mask, 0)\n",
    "    out_with_inf = output.masked_fill(mask, -float('inf'))\n",
    "    avg_pool = out_with_0.sum(dim=1).div_(lens.type(out_with_0.type()))\n",
    "    max_pool = out_with_inf.max(dim=1)[0]\n",
    "    return torch.cat([output[:, -1], avg_pool, max_pool], 1)\n",
    "\n",
    "def get_act(vocab_sz, yrange=None):\n",
    "    \"Provides activation according to regression or classification task.\"\n",
    "    if vocab_sz == 1:\n",
    "        yrange = (0, 2.05) if yrange is None else yrange\n",
    "        act = SigmoidRange(*yrange)\n",
    "    else:\n",
    "        act = nn.Softmax(dim=1)\n",
    "    return act\n",
    "\n",
    "def custom_splitter(m):\n",
    "    \"Splits model into parts for freezing. The model should have a `.blocks` property.\"\n",
    "    return L([block for block in m.blocks]).map(params)\n",
    "\n",
    "def custom_f1(y_pred, y, avg='micro'): \n",
    "    \"F1 score with activation and prediction to train with `CrossEntropyFlat`\"\n",
    "    return F1Score(average=avg)(y_pred.softmax(1).argmax(1), y)\n",
    "\n",
    "class Permute(Module):\n",
    "    def forward(self, x): return x.permute(0, 2, 1)"
   ]
  },
  {
   "cell_type": "markdown",
   "metadata": {},
   "source": [
    "## Learner\n",
    "\n",
    "A `Learner` is a characteristic object in fastai that handles the learning process of a given model. We'll make our own learners accounting for our needs in order to minimize the amount of code. "
   ]
  },
  {
   "cell_type": "code",
   "execution_count": null,
   "metadata": {},
   "outputs": [],
   "source": [
    "#export\n",
    "@delegates(Learner.__init__)\n",
    "class MyLearner(Learner):\n",
    "    def __init__(self, dls, model, splitter=custom_splitter, path=Path(\"..\"), **kwargs):\n",
    "        super().__init__(dls, model, splitter=splitter, path=path, **kwargs)\n",
    "    \n",
    "@delegates(Learner.__init__)\n",
    "class RNNLearner(Learner): \n",
    "    def __init__(self, dls, model, alpha=2., beta=1., splitter=custom_splitter, path=Path(\"..\"), moms=(0.8,0.7,0.8), **kwargs):\n",
    "        super().__init__(dls, model, splitter=splitter, moms=moms, path=path, **kwargs)\n",
    "        self.add_cbs([RNNRegularizer(alpha=alpha, beta=beta)])"
   ]
  },
  {
   "cell_type": "markdown",
   "metadata": {},
   "source": [
    "## Model for baseline\n",
    "\n",
    "The most basic model is one that takes the dataset and predicts the mean. Better start low, let's see what we get. "
   ]
  },
  {
   "cell_type": "code",
   "execution_count": null,
   "metadata": {},
   "outputs": [],
   "source": [
    "#export\n",
    "class MeanPredict:\n",
    "    def __init__(self):\n",
    "        self.mean = 0\n",
    "        \n",
    "    def fit(self, y): self.mean = y.mean()\n",
    "    def predict(self, x): return torch.ones(x.shape[0]) * self.mean"
   ]
  },
  {
   "cell_type": "code",
   "execution_count": null,
   "metadata": {},
   "outputs": [],
   "source": [
    "#hide\n",
    "from andi_unicorns.data import load_data"
   ]
  },
  {
   "cell_type": "code",
   "execution_count": null,
   "metadata": {},
   "outputs": [],
   "source": [
    "df = load_data(task=1, dim=1)\n",
    "x, y = df.loc[:, 'x'], df.loc[:, 'y']"
   ]
  },
  {
   "cell_type": "code",
   "execution_count": null,
   "metadata": {},
   "outputs": [],
   "source": [
    "cut = int(x.shape[0]*0.2)\n",
    "x_train, x_test = x[cut:], x[:cut]\n",
    "y_train, y_test = y[cut:], y[:cut]"
   ]
  },
  {
   "cell_type": "code",
   "execution_count": null,
   "metadata": {},
   "outputs": [],
   "source": [
    "mean_model = MeanPredict()\n",
    "mean_model.fit(y_train)"
   ]
  },
  {
   "cell_type": "code",
   "execution_count": null,
   "metadata": {},
   "outputs": [
    {
     "data": {
      "text/plain": [
       "0.49662789702415466"
      ]
     },
     "execution_count": null,
     "metadata": {},
     "output_type": "execute_result"
    }
   ],
   "source": [
    "preds = mean_model.predict(x_test)\n",
    "MAE = (tensor(y_test) - preds).abs().mean().item()\n",
    "MAE"
   ]
  },
  {
   "cell_type": "markdown",
   "metadata": {},
   "source": [
    "## Dense classifier\n",
    "\n",
    "Generic classifier based on fully connected layers. "
   ]
  },
  {
   "cell_type": "code",
   "execution_count": null,
   "metadata": {},
   "outputs": [],
   "source": [
    "#export\n",
    "class Classifier(Module):\n",
    "    \"Dense classifier\"\n",
    "    def __init__(self, dims, ps, act=True, yrange=None):\n",
    "        if len(ps) != len(dims)-1: raise ValueError(f\"Number of layers {len(dims)} and dropout values {len(ps)} don't match.\")\n",
    "        acts = [nn.ReLU(inplace=True)] * (len(dims) - 2) + [None]\n",
    "        layers = [LinBnDrop(i, o, p=p, act=a) for i,o,p,a in zip(dims[:-1], dims[1:], ps, acts)]\n",
    "        if act: layers.append(get_act(dims[-1], yrange=yrange))\n",
    "        self.layers = nn.Sequential(*layers)\n",
    "        \n",
    "    def forward(self, x): return self.layers(x)\n",
    "    \n",
    "class PoolingClassifier(Classifier):\n",
    "    \"Pooling linear classifier inspired by `PoolingLinearClassifier`\"\n",
    "    def forward(self, x):\n",
    "        out, mask = x\n",
    "        x = mask_concat_pool(out, mask)\n",
    "        x = self.layers(x)\n",
    "        return x, out, out"
   ]
  },
  {
   "cell_type": "markdown",
   "metadata": {},
   "source": [
    "## Baseline LSTM\n",
    "\n",
    "Simplest possible LSTM to have a starting point. After the LSTM there's a (badly implemented) average pooling."
   ]
  },
  {
   "cell_type": "code",
   "execution_count": null,
   "metadata": {},
   "outputs": [],
   "source": [
    "#export\n",
    "class SimpleLSTM(Module):\n",
    "    \"Cheap and simple LSTM running through the trajectories.\"\n",
    "    def __init__(self, dim, h_size, vocab_sz, bs, n_layers=1, yrange=(0, 2.05)):\n",
    "        self.rnn = nn.LSTM(dim, h_size, n_layers, batch_first=True)\n",
    "        self.h_o = nn.Linear(h_size, vocab_sz)\n",
    "        self.h = [torch.zeros(n_layers, bs, h_size) for _ in range(2)] # In case we do a generative\n",
    "        self.sigmoid = SigmoidRange(*yrange)\n",
    "        \n",
    "    def forward(self, x):\n",
    "        res, h = self.rnn(x) # res[bs, len, h_size], \n",
    "        self.h = [h_.detach() for h_ in h]\n",
    "        avg_pool = res.mean(1)   # Poorly done avg pooling\n",
    "        out = self.h_o(avg_pool)\n",
    "        return self.sigmoid(out).squeeze()\n",
    "    \n",
    "    def reset(self): \n",
    "        for h in self.h: h.zero_()"
   ]
  },
  {
   "cell_type": "code",
   "execution_count": null,
   "metadata": {},
   "outputs": [],
   "source": [
    "#hide\n",
    "from andi_unicorns.data import get_discriminative_dls"
   ]
  },
  {
   "cell_type": "code",
   "execution_count": null,
   "metadata": {},
   "outputs": [],
   "source": [
    "bs = 512\n",
    "dls = get_discriminative_dls(1, dim=1, bs=bs)\n",
    "my_lstm = SimpleLSTM(dim=1, h_size=200, n_layers=2, vocab_sz=1, bs=bs)"
   ]
  },
  {
   "cell_type": "code",
   "execution_count": null,
   "metadata": {},
   "outputs": [],
   "source": [
    "learn = Learner(dls, my_lstm, loss_func=L1LossFlat(), path=Path(\"..\"))"
   ]
  },
  {
   "cell_type": "code",
   "execution_count": null,
   "metadata": {},
   "outputs": [
    {
     "data": {
      "text/html": [],
      "text/plain": [
       "<IPython.core.display.HTML object>"
      ]
     },
     "metadata": {},
     "output_type": "display_data"
    },
    {
     "data": {
      "text/plain": [
       "SuggestedLRs(lr_min=0.19054607152938843, lr_steep=1.5848932266235352)"
      ]
     },
     "execution_count": null,
     "metadata": {},
     "output_type": "execute_result"
    },
    {
     "data": {
      "image/png": "[encoded data removed]",
      "text/plain": [
       "<Figure size 432x288 with 1 Axes>"
      ]
     },
     "metadata": {
      "needs_background": "light"
     },
     "output_type": "display_data"
    }
   ],
   "source": [
    "learn.lr_find()"
   ]
  },
  {
   "cell_type": "code",
   "execution_count": null,
   "metadata": {},
   "outputs": [
    {
     "data": {
      "text/html": [
       "<table border=\"1\" class=\"dataframe\">\n",
       "  <thead>\n",
       "    <tr style=\"text-align: left;\">\n",
       "      <th>epoch</th>\n",
       "      <th>train_loss</th>\n",
       "      <th>valid_loss</th>\n",
       "      <th>time</th>\n",
       "    </tr>\n",
       "  </thead>\n",
       "  <tbody>\n",
       "    <tr>\n",
       "      <td>0</td>\n",
       "      <td>0.480675</td>\n",
       "      <td>0.457632</td>\n",
       "      <td>00:06</td>\n",
       "    </tr>\n",
       "    <tr>\n",
       "      <td>1</td>\n",
       "      <td>0.469124</td>\n",
       "      <td>0.455228</td>\n",
       "      <td>00:06</td>\n",
       "    </tr>\n",
       "    <tr>\n",
       "      <td>2</td>\n",
       "      <td>0.459526</td>\n",
       "      <td>0.455297</td>\n",
       "      <td>00:06</td>\n",
       "    </tr>\n",
       "    <tr>\n",
       "      <td>3</td>\n",
       "      <td>0.456676</td>\n",
       "      <td>0.458143</td>\n",
       "      <td>00:06</td>\n",
       "    </tr>\n",
       "    <tr>\n",
       "      <td>4</td>\n",
       "      <td>0.455993</td>\n",
       "      <td>0.452877</td>\n",
       "      <td>00:06</td>\n",
       "    </tr>\n",
       "    <tr>\n",
       "      <td>5</td>\n",
       "      <td>0.452940</td>\n",
       "      <td>0.450441</td>\n",
       "      <td>00:06</td>\n",
       "    </tr>\n",
       "    <tr>\n",
       "      <td>6</td>\n",
       "      <td>0.453736</td>\n",
       "      <td>0.451169</td>\n",
       "      <td>00:06</td>\n",
       "    </tr>\n",
       "    <tr>\n",
       "      <td>7</td>\n",
       "      <td>0.452826</td>\n",
       "      <td>0.452540</td>\n",
       "      <td>00:06</td>\n",
       "    </tr>\n",
       "    <tr>\n",
       "      <td>8</td>\n",
       "      <td>0.449670</td>\n",
       "      <td>0.453951</td>\n",
       "      <td>00:06</td>\n",
       "    </tr>\n",
       "    <tr>\n",
       "      <td>9</td>\n",
       "      <td>0.443756</td>\n",
       "      <td>0.438794</td>\n",
       "      <td>00:06</td>\n",
       "    </tr>\n",
       "    <tr>\n",
       "      <td>10</td>\n",
       "      <td>0.439217</td>\n",
       "      <td>0.415747</td>\n",
       "      <td>00:06</td>\n",
       "    </tr>\n",
       "    <tr>\n",
       "      <td>11</td>\n",
       "      <td>0.427215</td>\n",
       "      <td>0.410007</td>\n",
       "      <td>00:06</td>\n",
       "    </tr>\n",
       "    <tr>\n",
       "      <td>12</td>\n",
       "      <td>0.420981</td>\n",
       "      <td>0.374753</td>\n",
       "      <td>00:05</td>\n",
       "    </tr>\n",
       "    <tr>\n",
       "      <td>13</td>\n",
       "      <td>0.407750</td>\n",
       "      <td>0.383876</td>\n",
       "      <td>00:06</td>\n",
       "    </tr>\n",
       "    <tr>\n",
       "      <td>14</td>\n",
       "      <td>0.399243</td>\n",
       "      <td>0.388635</td>\n",
       "      <td>00:06</td>\n",
       "    </tr>\n",
       "    <tr>\n",
       "      <td>15</td>\n",
       "      <td>0.390660</td>\n",
       "      <td>0.372682</td>\n",
       "      <td>00:06</td>\n",
       "    </tr>\n",
       "    <tr>\n",
       "      <td>16</td>\n",
       "      <td>0.378228</td>\n",
       "      <td>0.362564</td>\n",
       "      <td>00:06</td>\n",
       "    </tr>\n",
       "    <tr>\n",
       "      <td>17</td>\n",
       "      <td>0.374212</td>\n",
       "      <td>0.358968</td>\n",
       "      <td>00:06</td>\n",
       "    </tr>\n",
       "    <tr>\n",
       "      <td>18</td>\n",
       "      <td>0.366348</td>\n",
       "      <td>0.358472</td>\n",
       "      <td>00:06</td>\n",
       "    </tr>\n",
       "    <tr>\n",
       "      <td>19</td>\n",
       "      <td>0.360652</td>\n",
       "      <td>0.358581</td>\n",
       "      <td>00:06</td>\n",
       "    </tr>\n",
       "  </tbody>\n",
       "</table>"
      ],
      "text/plain": [
       "<IPython.core.display.HTML object>"
      ]
     },
     "metadata": {},
     "output_type": "display_data"
    }
   ],
   "source": [
    "learn.fit_one_cycle(20, lr_max=1e-2)"
   ]
  },
  {
   "cell_type": "code",
   "execution_count": null,
   "metadata": {},
   "outputs": [
    {
     "data": {
      "image/png": "[encoded data removed]",
      "text/plain": [
       "<Figure size 432x288 with 1 Axes>"
      ]
     },
     "metadata": {
      "needs_background": "light"
     },
     "output_type": "display_data"
    }
   ],
   "source": [
    "learn.recorder.plot_loss()"
   ]
  },
  {
   "cell_type": "markdown",
   "metadata": {},
   "source": [
    "## LSTM with concat pooling\n",
    "LSTM concatenating last, average and max pooling for the linear layer. Missing: dropout, RNN regularization and batch norm."
   ]
  },
  {
   "cell_type": "code",
   "execution_count": null,
   "metadata": {},
   "outputs": [],
   "source": [
    "#export\n",
    "class ConcatPoolLSTM(Module):\n",
    "    \"LSTM with last, avg & max pooling.\"\n",
    "    def __init__(self, dim, h_size, vocab_sz, n_layers=1, bidir=False, yrange=(0, 2.05), pad_value=0):\n",
    "        self.pad_value = pad_value\n",
    "        self.rnn = nn.LSTM(dim, h_size, n_layers, batch_first=True, bidirectional=bidir)\n",
    "        self.h_o = nn.Linear(3*h_size, vocab_sz)\n",
    "        self.sigmoid = SigmoidRange(*yrange)\n",
    "        \n",
    "    def forward(self, x):\n",
    "        res, h = self.rnn(x)\n",
    "        for h_ in h: h_.detach()\n",
    "        mask = x == self.pad_value\n",
    "        pool = mask_concat_pool(res, mask)\n",
    "        out = self.h_o(pool)\n",
    "        return self.sigmoid(out).squeeze()    "
   ]
  },
  {
   "cell_type": "code",
   "execution_count": null,
   "metadata": {},
   "outputs": [],
   "source": [
    "#hide\n",
    "from andi_unicorns.data import get_discriminative_dls"
   ]
  },
  {
   "cell_type": "code",
   "execution_count": null,
   "metadata": {},
   "outputs": [],
   "source": [
    "bs = 256\n",
    "dls = get_discriminative_dls(1, dim=1, bs=bs)\n",
    "my_lstm = ConcatPoolLSTM(dim=1, h_size=200, vocab_sz=1, n_layers=2)"
   ]
  },
  {
   "cell_type": "code",
   "execution_count": null,
   "metadata": {},
   "outputs": [],
   "source": [
    "learn = Learner(dls, my_lstm, loss_func=L1LossFlat(), path=Path(\"..\"))"
   ]
  },
  {
   "cell_type": "code",
   "execution_count": null,
   "metadata": {},
   "outputs": [
    {
     "data": {
      "text/html": [],
      "text/plain": [
       "<IPython.core.display.HTML object>"
      ]
     },
     "metadata": {},
     "output_type": "display_data"
    },
    {
     "data": {
      "text/plain": [
       "SuggestedLRs(lr_min=0.002290867641568184, lr_steep=6.309573450380412e-07)"
      ]
     },
     "execution_count": null,
     "metadata": {},
     "output_type": "execute_result"
    },
    {
     "data": {
      "image/png": "[encoded data removed]",
      "text/plain": [
       "<Figure size 432x288 with 1 Axes>"
      ]
     },
     "metadata": {
      "needs_background": "light"
     },
     "output_type": "display_data"
    }
   ],
   "source": [
    "learn.lr_find()"
   ]
  },
  {
   "cell_type": "code",
   "execution_count": null,
   "metadata": {},
   "outputs": [
    {
     "data": {
      "text/html": [
       "<table border=\"1\" class=\"dataframe\">\n",
       "  <thead>\n",
       "    <tr style=\"text-align: left;\">\n",
       "      <th>epoch</th>\n",
       "      <th>train_loss</th>\n",
       "      <th>valid_loss</th>\n",
       "      <th>time</th>\n",
       "    </tr>\n",
       "  </thead>\n",
       "  <tbody>\n",
       "    <tr>\n",
       "      <td>0</td>\n",
       "      <td>0.477336</td>\n",
       "      <td>0.463557</td>\n",
       "      <td>00:05</td>\n",
       "    </tr>\n",
       "    <tr>\n",
       "      <td>1</td>\n",
       "      <td>0.453745</td>\n",
       "      <td>0.438139</td>\n",
       "      <td>00:05</td>\n",
       "    </tr>\n",
       "    <tr>\n",
       "      <td>2</td>\n",
       "      <td>0.441699</td>\n",
       "      <td>0.434306</td>\n",
       "      <td>00:05</td>\n",
       "    </tr>\n",
       "    <tr>\n",
       "      <td>3</td>\n",
       "      <td>0.433865</td>\n",
       "      <td>0.403646</td>\n",
       "      <td>00:05</td>\n",
       "    </tr>\n",
       "    <tr>\n",
       "      <td>4</td>\n",
       "      <td>0.410418</td>\n",
       "      <td>0.348553</td>\n",
       "      <td>00:05</td>\n",
       "    </tr>\n",
       "    <tr>\n",
       "      <td>5</td>\n",
       "      <td>0.380282</td>\n",
       "      <td>0.333734</td>\n",
       "      <td>00:05</td>\n",
       "    </tr>\n",
       "    <tr>\n",
       "      <td>6</td>\n",
       "      <td>0.357164</td>\n",
       "      <td>0.334694</td>\n",
       "      <td>00:05</td>\n",
       "    </tr>\n",
       "    <tr>\n",
       "      <td>7</td>\n",
       "      <td>0.343448</td>\n",
       "      <td>0.310950</td>\n",
       "      <td>00:05</td>\n",
       "    </tr>\n",
       "    <tr>\n",
       "      <td>8</td>\n",
       "      <td>0.329999</td>\n",
       "      <td>0.309211</td>\n",
       "      <td>00:05</td>\n",
       "    </tr>\n",
       "    <tr>\n",
       "      <td>9</td>\n",
       "      <td>0.320462</td>\n",
       "      <td>0.301743</td>\n",
       "      <td>00:04</td>\n",
       "    </tr>\n",
       "    <tr>\n",
       "      <td>10</td>\n",
       "      <td>0.305517</td>\n",
       "      <td>0.291457</td>\n",
       "      <td>00:05</td>\n",
       "    </tr>\n",
       "    <tr>\n",
       "      <td>11</td>\n",
       "      <td>0.291146</td>\n",
       "      <td>0.287913</td>\n",
       "      <td>00:05</td>\n",
       "    </tr>\n",
       "    <tr>\n",
       "      <td>12</td>\n",
       "      <td>0.282300</td>\n",
       "      <td>0.303499</td>\n",
       "      <td>00:05</td>\n",
       "    </tr>\n",
       "    <tr>\n",
       "      <td>13</td>\n",
       "      <td>0.284774</td>\n",
       "      <td>0.285231</td>\n",
       "      <td>00:04</td>\n",
       "    </tr>\n",
       "    <tr>\n",
       "      <td>14</td>\n",
       "      <td>0.276963</td>\n",
       "      <td>0.287966</td>\n",
       "      <td>00:05</td>\n",
       "    </tr>\n",
       "    <tr>\n",
       "      <td>15</td>\n",
       "      <td>0.275603</td>\n",
       "      <td>0.281532</td>\n",
       "      <td>00:05</td>\n",
       "    </tr>\n",
       "    <tr>\n",
       "      <td>16</td>\n",
       "      <td>0.263547</td>\n",
       "      <td>0.280372</td>\n",
       "      <td>00:05</td>\n",
       "    </tr>\n",
       "    <tr>\n",
       "      <td>17</td>\n",
       "      <td>0.274825</td>\n",
       "      <td>0.286905</td>\n",
       "      <td>00:04</td>\n",
       "    </tr>\n",
       "    <tr>\n",
       "      <td>18</td>\n",
       "      <td>0.270143</td>\n",
       "      <td>0.280844</td>\n",
       "      <td>00:05</td>\n",
       "    </tr>\n",
       "    <tr>\n",
       "      <td>19</td>\n",
       "      <td>0.265217</td>\n",
       "      <td>0.282407</td>\n",
       "      <td>00:06</td>\n",
       "    </tr>\n",
       "  </tbody>\n",
       "</table>"
      ],
      "text/plain": [
       "<IPython.core.display.HTML object>"
      ]
     },
     "metadata": {},
     "output_type": "display_data"
    }
   ],
   "source": [
    "learn.fit_one_cycle(20, lr_max=2e-3)"
   ]
  },
  {
   "cell_type": "code",
   "execution_count": null,
   "metadata": {},
   "outputs": [
    {
     "data": {
      "image/png": "[encoded data removed]",
      "text/plain": [
       "<Figure size 432x288 with 1 Axes>"
      ]
     },
     "metadata": {
      "needs_background": "light"
     },
     "output_type": "display_data"
    }
   ],
   "source": [
    "learn.recorder.plot_loss()"
   ]
  },
  {
   "cell_type": "markdown",
   "metadata": {},
   "source": [
    "## LSTM with regularization\n",
    "\n",
    "Adding regularization to the previous model in the form of dropout and adding batch norm to the linear layers. "
   ]
  },
  {
   "cell_type": "code",
   "execution_count": null,
   "metadata": {},
   "outputs": [],
   "source": [
    "#export\n",
    "class RegLSTMLin(Module):\n",
    "    \"LSTM with dropout and batch norm.\"\n",
    "    def __init__(self, dim, h_size, vocab_sz=1, rnn_layers=1, in_p=0.4, hid_p=0.3, weight_p=0.5, out_ps=0.4, linear_layers=[200, 50], ps=None,   \n",
    "                 bidir=False, layer='LSTM', act=True, norm=False, yrange=(0, 2.05), pad_value=0):\n",
    "        store_attr('norm,pad_value')\n",
    "        self.rnn = RegLSTM(dim, h_size, rnn_layers, hidden_p=hid_p, input_p=in_p, weight_p=weight_p, bidir=bidir, layer=layer)\n",
    "        \n",
    "        lin_dim = [h_size*3] + linear_layers + [vocab_sz]\n",
    "        if ps is None: ps = [0.1]*len(linear_layers)\n",
    "        ps = [out_ps] + ps\n",
    "        self.linear = PoolingClassifier(lin_dim, ps=ps, act=act, yrange=yrange)\n",
    "        self.blocks = [self.rnn, self.linear]\n",
    "        \n",
    "    def forward(self, x):\n",
    "        mask = x == self.pad_value\n",
    "        if self.norm: x = mask_normalisation(x, mask)\n",
    "        out = self.rnn(x)\n",
    "        x, out, out = self.linear((out, mask))\n",
    "        return x, out, out \n",
    "    \n",
    "class RegLSTM(Module):\n",
    "    \"LSTM with regularization and inter-layer dropout.\"\n",
    "    def __init__(self, dim, n_hid, n_layers, input_p=0.4, hidden_p=0.3, weight_p=0.5, bidir=False, layer='LSTM'):\n",
    "        store_attr('dim,n_hid,n_layers,layer')\n",
    "        self.n_dir = 2 if bidir else 1\n",
    "        self.rnns = nn.ModuleList([self._one_rnn(dim if l == 0 else n_hid, n_hid//self.n_dir,\n",
    "                                                 bidir, weight_p, l) for l in range(n_layers)])\n",
    "        self.input_dp = RNNDropout(input_p)\n",
    "        self.hidden_dps = nn.ModuleList([RNNDropout(hidden_p) for l in range(n_layers)])\n",
    "\n",
    "    def forward(self, x):\n",
    "        output = self.input_dp(x)\n",
    "        new_hidden = []\n",
    "        for l, (rnn,hid_dp) in enumerate(zip(self.rnns, self.hidden_dps)):\n",
    "            output, new_h = rnn(output)\n",
    "            to_detach(new_h, cpu=False, gather=False)\n",
    "            if l != self.n_layers-1: output = hid_dp(output)\n",
    "        return output\n",
    "\n",
    "    def _one_rnn(self, n_in, n_out, bidir, weight_p, l):\n",
    "        \"Return one of the inner rnn\"\n",
    "        layer = getattr(nn, self.layer)\n",
    "        rnn = layer(n_in, n_out, 1, batch_first=True, bidirectional=bidir)\n",
    "        return WeightDropout(rnn, weight_p)        "
   ]
  },
  {
   "cell_type": "code",
   "execution_count": null,
   "metadata": {},
   "outputs": [],
   "source": [
    "#hide\n",
    "from andi_unicorns.data import get_discriminative_dls"
   ]
  },
  {
   "cell_type": "code",
   "execution_count": null,
   "metadata": {},
   "outputs": [],
   "source": [
    "dim = 1\n",
    "bs = 128\n",
    "dls = get_discriminative_dls(2, dim=1, bs=bs)\n",
    "my_lstm = RegLSTMLin(dim=dim, vocab_sz=5, h_size=500, rnn_layers=2, in_p=0., hid_p=0.3, weight_p=0.05, out_ps=0.3, \n",
    "                     linear_layers=[500, 200, 50], ps=[0.4, 0.4, 0.4], act=False)\n",
    "\n",
    "learn = RNNLearner(dls, my_lstm, loss_func=CrossEntropyLossFlat(), metrics=custom_f1)"
   ]
  },
  {
   "cell_type": "code",
   "execution_count": null,
   "metadata": {},
   "outputs": [
    {
     "data": {
      "text/html": [],
      "text/plain": [
       "<IPython.core.display.HTML object>"
      ]
     },
     "metadata": {},
     "output_type": "display_data"
    },
    {
     "data": {
      "text/plain": [
       "SuggestedLRs(lr_min=0.010000000149011612, lr_steep=0.015848932787775993)"
      ]
     },
     "execution_count": null,
     "metadata": {},
     "output_type": "execute_result"
    },
    {
     "data": {
      "image/png": "[encoded data removed]",
      "text/plain": [
       "<Figure size 432x288 with 1 Axes>"
      ]
     },
     "metadata": {
      "needs_background": "light"
     },
     "output_type": "display_data"
    }
   ],
   "source": [
    "learn.lr_find()"
   ]
  },
  {
   "cell_type": "code",
   "execution_count": null,
   "metadata": {},
   "outputs": [
    {
     "data": {
      "text/html": [
       "<table border=\"1\" class=\"dataframe\">\n",
       "  <thead>\n",
       "    <tr style=\"text-align: left;\">\n",
       "      <th>epoch</th>\n",
       "      <th>train_loss</th>\n",
       "      <th>valid_loss</th>\n",
       "      <th>custom_f1</th>\n",
       "      <th>time</th>\n",
       "    </tr>\n",
       "  </thead>\n",
       "  <tbody>\n",
       "    <tr>\n",
       "      <td>0</td>\n",
       "      <td>1.704521</td>\n",
       "      <td>1.591073</td>\n",
       "      <td>0.262000</td>\n",
       "      <td>00:13</td>\n",
       "    </tr>\n",
       "    <tr>\n",
       "      <td>1</td>\n",
       "      <td>1.595931</td>\n",
       "      <td>1.475284</td>\n",
       "      <td>0.338500</td>\n",
       "      <td>00:13</td>\n",
       "    </tr>\n",
       "    <tr>\n",
       "      <td>2</td>\n",
       "      <td>1.479173</td>\n",
       "      <td>1.784336</td>\n",
       "      <td>0.248500</td>\n",
       "      <td>00:15</td>\n",
       "    </tr>\n",
       "    <tr>\n",
       "      <td>3</td>\n",
       "      <td>1.387651</td>\n",
       "      <td>1.495931</td>\n",
       "      <td>0.383500</td>\n",
       "      <td>00:13</td>\n",
       "    </tr>\n",
       "    <tr>\n",
       "      <td>4</td>\n",
       "      <td>1.236572</td>\n",
       "      <td>1.424089</td>\n",
       "      <td>0.398500</td>\n",
       "      <td>00:13</td>\n",
       "    </tr>\n",
       "    <tr>\n",
       "      <td>5</td>\n",
       "      <td>1.095731</td>\n",
       "      <td>1.096087</td>\n",
       "      <td>0.547500</td>\n",
       "      <td>00:13</td>\n",
       "    </tr>\n",
       "    <tr>\n",
       "      <td>6</td>\n",
       "      <td>1.017265</td>\n",
       "      <td>1.003676</td>\n",
       "      <td>0.566000</td>\n",
       "      <td>00:14</td>\n",
       "    </tr>\n",
       "    <tr>\n",
       "      <td>7</td>\n",
       "      <td>0.993526</td>\n",
       "      <td>0.950899</td>\n",
       "      <td>0.589000</td>\n",
       "      <td>00:14</td>\n",
       "    </tr>\n",
       "    <tr>\n",
       "      <td>8</td>\n",
       "      <td>0.920857</td>\n",
       "      <td>0.981660</td>\n",
       "      <td>0.568500</td>\n",
       "      <td>00:13</td>\n",
       "    </tr>\n",
       "    <tr>\n",
       "      <td>9</td>\n",
       "      <td>1.396451</td>\n",
       "      <td>1.756910</td>\n",
       "      <td>0.194500</td>\n",
       "      <td>00:13</td>\n",
       "    </tr>\n",
       "    <tr>\n",
       "      <td>10</td>\n",
       "      <td>1.521800</td>\n",
       "      <td>1.513621</td>\n",
       "      <td>0.314500</td>\n",
       "      <td>00:13</td>\n",
       "    </tr>\n",
       "    <tr>\n",
       "      <td>11</td>\n",
       "      <td>1.497490</td>\n",
       "      <td>1.454690</td>\n",
       "      <td>0.338000</td>\n",
       "      <td>00:13</td>\n",
       "    </tr>\n",
       "    <tr>\n",
       "      <td>12</td>\n",
       "      <td>1.448959</td>\n",
       "      <td>1.469602</td>\n",
       "      <td>0.319000</td>\n",
       "      <td>00:14</td>\n",
       "    </tr>\n",
       "    <tr>\n",
       "      <td>13</td>\n",
       "      <td>1.402533</td>\n",
       "      <td>1.355393</td>\n",
       "      <td>0.404000</td>\n",
       "      <td>00:12</td>\n",
       "    </tr>\n",
       "    <tr>\n",
       "      <td>14</td>\n",
       "      <td>1.321298</td>\n",
       "      <td>1.485074</td>\n",
       "      <td>0.370500</td>\n",
       "      <td>00:14</td>\n",
       "    </tr>\n",
       "    <tr>\n",
       "      <td>15</td>\n",
       "      <td>1.283154</td>\n",
       "      <td>1.283386</td>\n",
       "      <td>0.443500</td>\n",
       "      <td>00:14</td>\n",
       "    </tr>\n",
       "    <tr>\n",
       "      <td>16</td>\n",
       "      <td>1.215937</td>\n",
       "      <td>1.232074</td>\n",
       "      <td>0.472000</td>\n",
       "      <td>00:15</td>\n",
       "    </tr>\n",
       "    <tr>\n",
       "      <td>17</td>\n",
       "      <td>1.181528</td>\n",
       "      <td>1.108896</td>\n",
       "      <td>0.524000</td>\n",
       "      <td>00:12</td>\n",
       "    </tr>\n",
       "    <tr>\n",
       "      <td>18</td>\n",
       "      <td>1.150954</td>\n",
       "      <td>1.104065</td>\n",
       "      <td>0.514500</td>\n",
       "      <td>00:14</td>\n",
       "    </tr>\n",
       "    <tr>\n",
       "      <td>19</td>\n",
       "      <td>1.136491</td>\n",
       "      <td>1.208687</td>\n",
       "      <td>0.488000</td>\n",
       "      <td>00:14</td>\n",
       "    </tr>\n",
       "    <tr>\n",
       "      <td>20</td>\n",
       "      <td>1.105524</td>\n",
       "      <td>1.146747</td>\n",
       "      <td>0.506500</td>\n",
       "      <td>00:14</td>\n",
       "    </tr>\n",
       "    <tr>\n",
       "      <td>21</td>\n",
       "      <td>1.081140</td>\n",
       "      <td>1.142342</td>\n",
       "      <td>0.496000</td>\n",
       "      <td>00:14</td>\n",
       "    </tr>\n",
       "    <tr>\n",
       "      <td>22</td>\n",
       "      <td>1.072927</td>\n",
       "      <td>1.088592</td>\n",
       "      <td>0.528500</td>\n",
       "      <td>00:13</td>\n",
       "    </tr>\n",
       "    <tr>\n",
       "      <td>23</td>\n",
       "      <td>1.050769</td>\n",
       "      <td>1.139722</td>\n",
       "      <td>0.491000</td>\n",
       "      <td>00:13</td>\n",
       "    </tr>\n",
       "    <tr>\n",
       "      <td>24</td>\n",
       "      <td>1.042542</td>\n",
       "      <td>1.073177</td>\n",
       "      <td>0.517500</td>\n",
       "      <td>00:14</td>\n",
       "    </tr>\n",
       "    <tr>\n",
       "      <td>25</td>\n",
       "      <td>1.004164</td>\n",
       "      <td>1.066679</td>\n",
       "      <td>0.527000</td>\n",
       "      <td>00:15</td>\n",
       "    </tr>\n",
       "    <tr>\n",
       "      <td>26</td>\n",
       "      <td>1.003886</td>\n",
       "      <td>1.046793</td>\n",
       "      <td>0.529000</td>\n",
       "      <td>00:14</td>\n",
       "    </tr>\n",
       "    <tr>\n",
       "      <td>27</td>\n",
       "      <td>0.991775</td>\n",
       "      <td>0.996298</td>\n",
       "      <td>0.565000</td>\n",
       "      <td>00:14</td>\n",
       "    </tr>\n",
       "    <tr>\n",
       "      <td>28</td>\n",
       "      <td>0.971758</td>\n",
       "      <td>1.063859</td>\n",
       "      <td>0.534500</td>\n",
       "      <td>00:14</td>\n",
       "    </tr>\n",
       "    <tr>\n",
       "      <td>29</td>\n",
       "      <td>0.993252</td>\n",
       "      <td>1.023925</td>\n",
       "      <td>0.546500</td>\n",
       "      <td>00:14</td>\n",
       "    </tr>\n",
       "  </tbody>\n",
       "</table>"
      ],
      "text/plain": [
       "<IPython.core.display.HTML object>"
      ]
     },
     "metadata": {},
     "output_type": "display_data"
    }
   ],
   "source": [
    "learn.fit_one_cycle(30, lr_max=5e-3, wd=1e-3)"
   ]
  },
  {
   "cell_type": "code",
   "execution_count": null,
   "metadata": {},
   "outputs": [],
   "source": [
    "learn.recorder.plot_loss()"
   ]
  },
  {
   "cell_type": "markdown",
   "metadata": {},
   "source": [
    "## Convolutional networks\n",
    "\n",
    "Convolutional neural networks (CNNs) are, generally, built of blocks of several convolutional layers. We take the `XResNet` model from fastai to perform our prototyping."
   ]
  },
  {
   "cell_type": "code",
   "execution_count": null,
   "metadata": {},
   "outputs": [],
   "source": [
    "#export\n",
    "class CustomXResNet(nn.Sequential):    \n",
    "    @delegates(ResBlock)\n",
    "    def __init__(self, block, expansion, layers, p=0.0, c_in=1, n_out=1000, stem_szs=(32,32,64),\n",
    "                 widen=1.0, sa=False, act_cls=defaults.activation, ndim=1, ks=3, stride=2, **kwargs):\n",
    "        store_attr('block,expansion,act_cls,ndim,ks')\n",
    "        if ks % 2 == 0: raise Exception('kernel size has to be odd!')\n",
    "        stem_szs = [c_in, *stem_szs]\n",
    "        stem = [ConvLayer(stem_szs[i], stem_szs[i+1], ks=ks, stride=stride if i==0 else 1,\n",
    "                          act_cls=act_cls, ndim=ndim)\n",
    "                for i in range(len(stem_szs)-1)]\n",
    "\n",
    "        n_layers = len(layers)\n",
    "        block_szs = [stem_szs[-1], 128, 256, 512] + [256]*(n_layers-4)\n",
    "        block_szs = [int(o*widen) for o in block_szs[:n_layers]]\n",
    "        block_szs = [stem_szs[-1]//expansion] + block_szs\n",
    "        blocks    = self._make_blocks(layers, block_szs, sa, stride, **kwargs)\n",
    "\n",
    "        super().__init__(\n",
    "            *stem, MaxPool(ks=ks, stride=stride, padding=ks//2, ndim=ndim),\n",
    "            *blocks, # AdaptiveAvgPool(sz=1, ndim=ndim)\n",
    "            AdaptiveConcatPool1d(), Flatten(), nn.Dropout(p),\n",
    "            nn.Linear(2*block_szs[-1]*expansion, n_out),\n",
    "        )\n",
    "        init_cnn(self)\n",
    "\n",
    "    def _make_blocks(self, layers, block_szs, sa, stride, **kwargs):\n",
    "        return [self._make_layer(ni=block_szs[i], nf=block_szs[i+1], blocks=l,\n",
    "                                 stride=1 if i==0 else stride, sa=sa and i==len(layers)-4, **kwargs)\n",
    "                for i,l in enumerate(layers)]\n",
    "\n",
    "    def _make_layer(self, ni, nf, blocks, stride, sa, **kwargs):\n",
    "        return nn.Sequential(\n",
    "            *[self.block(self.expansion, ni if i==0 else nf, nf, stride=stride if i==0 else 1,\n",
    "                      sa=sa and i==(blocks-1), act_cls=self.act_cls, ndim=self.ndim, ks=self.ks, **kwargs)\n",
    "              for i in range(blocks)])"
   ]
  },
  {
   "cell_type": "code",
   "execution_count": null,
   "metadata": {},
   "outputs": [],
   "source": [
    "#export    \n",
    "@delegates(CustomXResNet.__init__)\n",
    "class CNNLin(Module):\n",
    "    def __init__(self, dim, vocab_sz=1, h_size=1000, yrange=(0, 2.05), exp=1, layers=[1, 1, 1, 1], out_p=0., linear_layers=[200, 50], ps=None, act=True, norm=True, **kwargs):\n",
    "        self.norm = norm\n",
    "        self.cnn = CNN(dim, exp=exp, layers=layers, p=out_p, n_out=h_size, **kwargs)\n",
    "        lin_dim = [h_size] + linear_layers + [vocab_sz]\n",
    "        if ps is None: ps = [0.1]*len(linear_layers)\n",
    "        ps = [out_p] + ps\n",
    "        self.lin = Classifier(lin_dim, ps, act=act, yrange=yrange)\n",
    "        self.blocks = [self.cnn, self.lin]\n",
    "        \n",
    "    def forward(self, x):\n",
    "        if self.norm: \n",
    "            mask = x == 0\n",
    "            x = mask_normalisation(x, mask)\n",
    "        x = self.cnn(x.permute(0, 2, 1))\n",
    "        return self.lin(x)\n",
    "\n",
    "@delegates(CustomXResNet.__init__)\n",
    "class CNN(CustomXResNet):\n",
    "    def __init__(self, dim, exp=1, layers=[1, 1], **kwargs):\n",
    "        super().__init__(ResBlock, exp, layers, c_in=dim, ndim=1, **kwargs)"
   ]
  },
  {
   "cell_type": "code",
   "execution_count": null,
   "metadata": {},
   "outputs": [],
   "source": [
    "#hide\n",
    "from andi_unicorns.data import get_custom_dls"
   ]
  },
  {
   "cell_type": "code",
   "execution_count": null,
   "metadata": {},
   "outputs": [],
   "source": [
    "dim = 1\n",
    "dls = get_custom_dls(target='exp', dim=dim, bs=128)\n",
    "cnn = CNNLin(dim, h_size=512, layers=[1, 1], ks=3, p=0.5, stem_szs=(32, 64))\n",
    "learn = MyLearner(dls, cnn, loss_func=L1LossFlat(), metrics=mae)"
   ]
  },
  {
   "cell_type": "code",
   "execution_count": null,
   "metadata": {},
   "outputs": [
    {
     "data": {
      "text/html": [],
      "text/plain": [
       "<IPython.core.display.HTML object>"
      ]
     },
     "metadata": {},
     "output_type": "display_data"
    },
    {
     "data": {
      "text/plain": [
       "SuggestedLRs(lr_min=0.005754399299621582, lr_steep=7.585775847473997e-07)"
      ]
     },
     "execution_count": null,
     "metadata": {},
     "output_type": "execute_result"
    },
    {
     "data": {
      "image/png": "[encoded data removed]",
      "text/plain": [
       "<Figure size 432x288 with 1 Axes>"
      ]
     },
     "metadata": {
      "needs_background": "light"
     },
     "output_type": "display_data"
    }
   ],
   "source": [
    "learn.lr_find()"
   ]
  },
  {
   "cell_type": "code",
   "execution_count": null,
   "metadata": {},
   "outputs": [
    {
     "data": {
      "text/html": [
       "<table border=\"1\" class=\"dataframe\">\n",
       "  <thead>\n",
       "    <tr style=\"text-align: left;\">\n",
       "      <th>epoch</th>\n",
       "      <th>train_loss</th>\n",
       "      <th>valid_loss</th>\n",
       "      <th>mae</th>\n",
       "      <th>time</th>\n",
       "    </tr>\n",
       "  </thead>\n",
       "  <tbody>\n",
       "    <tr>\n",
       "      <td>0</td>\n",
       "      <td>0.362033</td>\n",
       "      <td>0.342109</td>\n",
       "      <td>0.342109</td>\n",
       "      <td>00:09</td>\n",
       "    </tr>\n",
       "    <tr>\n",
       "      <td>1</td>\n",
       "      <td>0.310369</td>\n",
       "      <td>0.302907</td>\n",
       "      <td>0.302907</td>\n",
       "      <td>00:08</td>\n",
       "    </tr>\n",
       "    <tr>\n",
       "      <td>2</td>\n",
       "      <td>0.292476</td>\n",
       "      <td>0.273055</td>\n",
       "      <td>0.273055</td>\n",
       "      <td>00:08</td>\n",
       "    </tr>\n",
       "    <tr>\n",
       "      <td>3</td>\n",
       "      <td>0.276008</td>\n",
       "      <td>0.258261</td>\n",
       "      <td>0.258261</td>\n",
       "      <td>00:08</td>\n",
       "    </tr>\n",
       "    <tr>\n",
       "      <td>4</td>\n",
       "      <td>0.256228</td>\n",
       "      <td>0.255621</td>\n",
       "      <td>0.255621</td>\n",
       "      <td>00:09</td>\n",
       "    </tr>\n",
       "    <tr>\n",
       "      <td>5</td>\n",
       "      <td>0.254321</td>\n",
       "      <td>0.237205</td>\n",
       "      <td>0.237205</td>\n",
       "      <td>00:08</td>\n",
       "    </tr>\n",
       "    <tr>\n",
       "      <td>6</td>\n",
       "      <td>0.236969</td>\n",
       "      <td>0.231746</td>\n",
       "      <td>0.231746</td>\n",
       "      <td>00:09</td>\n",
       "    </tr>\n",
       "    <tr>\n",
       "      <td>7</td>\n",
       "      <td>0.243301</td>\n",
       "      <td>0.233111</td>\n",
       "      <td>0.233111</td>\n",
       "      <td>00:08</td>\n",
       "    </tr>\n",
       "    <tr>\n",
       "      <td>8</td>\n",
       "      <td>0.236128</td>\n",
       "      <td>0.228627</td>\n",
       "      <td>0.228627</td>\n",
       "      <td>00:09</td>\n",
       "    </tr>\n",
       "    <tr>\n",
       "      <td>9</td>\n",
       "      <td>0.222612</td>\n",
       "      <td>0.218090</td>\n",
       "      <td>0.218090</td>\n",
       "      <td>00:09</td>\n",
       "    </tr>\n",
       "    <tr>\n",
       "      <td>10</td>\n",
       "      <td>0.217629</td>\n",
       "      <td>0.214856</td>\n",
       "      <td>0.214856</td>\n",
       "      <td>00:09</td>\n",
       "    </tr>\n",
       "    <tr>\n",
       "      <td>11</td>\n",
       "      <td>0.227412</td>\n",
       "      <td>0.227554</td>\n",
       "      <td>0.227554</td>\n",
       "      <td>00:08</td>\n",
       "    </tr>\n",
       "    <tr>\n",
       "      <td>12</td>\n",
       "      <td>0.219660</td>\n",
       "      <td>0.220196</td>\n",
       "      <td>0.220196</td>\n",
       "      <td>00:07</td>\n",
       "    </tr>\n",
       "    <tr>\n",
       "      <td>13</td>\n",
       "      <td>0.215833</td>\n",
       "      <td>0.214252</td>\n",
       "      <td>0.214252</td>\n",
       "      <td>00:09</td>\n",
       "    </tr>\n",
       "    <tr>\n",
       "      <td>14</td>\n",
       "      <td>0.219746</td>\n",
       "      <td>0.220679</td>\n",
       "      <td>0.220679</td>\n",
       "      <td>00:09</td>\n",
       "    </tr>\n",
       "    <tr>\n",
       "      <td>15</td>\n",
       "      <td>0.206634</td>\n",
       "      <td>0.209599</td>\n",
       "      <td>0.209599</td>\n",
       "      <td>00:09</td>\n",
       "    </tr>\n",
       "    <tr>\n",
       "      <td>16</td>\n",
       "      <td>0.200845</td>\n",
       "      <td>0.206507</td>\n",
       "      <td>0.206507</td>\n",
       "      <td>00:08</td>\n",
       "    </tr>\n",
       "    <tr>\n",
       "      <td>17</td>\n",
       "      <td>0.206922</td>\n",
       "      <td>0.205840</td>\n",
       "      <td>0.205840</td>\n",
       "      <td>00:09</td>\n",
       "    </tr>\n",
       "    <tr>\n",
       "      <td>18</td>\n",
       "      <td>0.212175</td>\n",
       "      <td>0.208679</td>\n",
       "      <td>0.208679</td>\n",
       "      <td>00:09</td>\n",
       "    </tr>\n",
       "    <tr>\n",
       "      <td>19</td>\n",
       "      <td>0.212703</td>\n",
       "      <td>0.216993</td>\n",
       "      <td>0.216993</td>\n",
       "      <td>00:08</td>\n",
       "    </tr>\n",
       "  </tbody>\n",
       "</table>"
      ],
      "text/plain": [
       "<IPython.core.display.HTML object>"
      ]
     },
     "metadata": {},
     "output_type": "display_data"
    }
   ],
   "source": [
    "learn.fit_one_cycle(20, lr_max=5e-3, wd=1e-3)"
   ]
  },
  {
   "cell_type": "code",
   "execution_count": null,
   "metadata": {},
   "outputs": [
    {
     "data": {
      "image/png": "[encoded data removed]",
      "text/plain": [
       "<Figure size 432x288 with 1 Axes>"
      ]
     },
     "metadata": {
      "needs_background": "light"
     },
     "output_type": "display_data"
    }
   ],
   "source": [
    "learn.recorder.plot_loss()"
   ]
  },
  {
   "cell_type": "markdown",
   "metadata": {},
   "source": [
    "## CNN and RNN\n",
    "Combining the feature extration power of both approaches with a classifier that feeds on both. "
   ]
  },
  {
   "cell_type": "code",
   "execution_count": null,
   "metadata": {},
   "outputs": [],
   "source": [
    "#export\n",
    "class RNNCNNClassifier(Module):\n",
    "    def __init__(self, dim, vocab_sz=1, rnn_h=750, rnn_layers=1, rnn_layer='GRU', in_p=0.4, rnn_p=0.3, w_p=0.5, out_p=0.4, bidir=False, \n",
    "                 cnn_h=512, cnn_exp=1, cnn_layers=[1, 1, 1], cnn_stemsz=(32, 64), cnn_ks=3, cnn_p=0.5, linear_layers=[200, 50], ps=None,\n",
    "                 act=True, yrange=(0, 2.05), pad_value=0):\n",
    "        store_attr('pad_value')\n",
    "        self.rnn = RegLSTMLin(dim, rnn_h, vocab_sz=3*rnn_h, rnn_layers=rnn_layers, in_p=in_p, hid_p=rnn_p, weight_p=w_p, out_ps=out_p, \n",
    "                              linear_layers=[], bidir=bidir, act=False)\n",
    "        self.cnn = CNN(dim, exp=cnn_exp, layers=cnn_layers, p=cnn_p, n_out=cnn_h, stem_szs=cnn_stemsz)\n",
    "        \n",
    "        lin_dim = [3*rnn_h + cnn_h] + linear_layers + [vocab_sz]\n",
    "        if ps is None: ps = [0.2]*len(linear_layers)\n",
    "        ps = [out_p] + ps\n",
    "        self.linear = Classifier(lin_dim, ps=ps, act=act, yrange=yrange)\n",
    "        self.blocks = [self.rnn, self.cnn, self.linear]\n",
    "        \n",
    "    def forward(self, x):\n",
    "        mask = x == self.pad_value\n",
    "        x = mask_normalisation(x, mask)\n",
    "        out_rnn, out_cnn = self.rnn(x), self.cnn(x.permute(0, 2, 1))\n",
    "        x = torch.cat([out_rnn[0].relu_(), out_cnn.relu_()], dim=1)\n",
    "        x = self.linear(x)\n",
    "        return x, out_rnn[1], out_rnn[2]"
   ]
  },
  {
   "cell_type": "markdown",
   "metadata": {},
   "source": [
    "## Ensembles\n",
    "\n",
    "Ensembles are extremely powerful structures. Here, we build a simple ensemble that takes a bunch of pre-trained models and averages their output for the prediction."
   ]
  },
  {
   "cell_type": "code",
   "execution_count": null,
   "metadata": {},
   "outputs": [],
   "source": [
    "#export\n",
    "class Ensemble(Module):\n",
    "    def __init__(self, models, add_act=False):\n",
    "        store_attr('models')\n",
    "        self.act = get_act(self._get_vocab_sz) if add_act else noop\n",
    "        \n",
    "    def forward(self, x):\n",
    "        preds = self._get_preds(x)\n",
    "        return self._average(preds)\n",
    "        \n",
    "    def _get_preds(self, x):\n",
    "        preds = []\n",
    "        for model in self.models:\n",
    "            if hasattr(model, 'rnn'): preds.append(self.act(model(x)[0]))\n",
    "            else:                     preds.append(self.act(model(x)))\n",
    "        return preds\n",
    "    \n",
    "    @staticmethod\n",
    "    def _majority_vote(preds): return torch.stack(preds, dim=-1).mean(-1)\n",
    "    \n",
    "    def _average(self, preds): return torch.stack(preds, dim=-1).mean(-1)\n",
    "    \n",
    "    def _get_vocab_sz(self): return self.models[0].blocks[-1].layers[-1][-1].out_features"
   ]
  },
  {
   "cell_type": "code",
   "execution_count": null,
   "metadata": {},
   "outputs": [],
   "source": [
    "#hide\n",
    "from andi_unicorns.data import get_custom_dls\n",
    "from andi_unicorns.utils import load_model"
   ]
  },
  {
   "cell_type": "code",
   "execution_count": null,
   "metadata": {},
   "outputs": [],
   "source": [
    "names = [f\"cnn_dim1_t2_ks3_{i}\" for i in range(11)]\n",
    "models = [load_model(name).cuda() for name in names]\n",
    "dls = get_custom_dls(bs=10)"
   ]
  },
  {
   "cell_type": "code",
   "execution_count": null,
   "metadata": {},
   "outputs": [],
   "source": [
    "ensemble = Ensemble(models, add_act=True)"
   ]
  },
  {
   "cell_type": "code",
   "execution_count": null,
   "metadata": {},
   "outputs": [
    {
     "data": {
      "text/plain": [
       "(tensor([2, 3, 4, 0, 4, 1, 4, 1, 3, 3], device='cuda:0'),\n",
       " tensor([2, 3, 4, 1, 4, 1, 4, 1, 3, 3], device='cuda:0'))"
      ]
     },
     "execution_count": null,
     "metadata": {},
     "output_type": "execute_result"
    }
   ],
   "source": [
    "xb, yb = dls[0].one_batch()\n",
    "y_pred = ensemble(xb)\n",
    "yb, y_pred"
   ]
  },
  {
   "cell_type": "markdown",
   "metadata": {},
   "source": [
    "## Hydra\n",
    "\n",
    "We call it hydra mainly because it's cool, but it's just a way to get pre-trained models, remove their last layer and merge everything together with a contact classifier. Hence, it is, indeed, an inverted hydra with several bodies and one head!\n",
    "\n",
    "The hydra asumes every body to come with whatever feature extraction and a `Classifier` at the end. The `Classifier` should have, at least, two dense layers, as the `Hydra` drops the last one and uses the previous layer as glue for the contact layer. "
   ]
  },
  {
   "cell_type": "code",
   "execution_count": null,
   "metadata": {},
   "outputs": [],
   "source": [
    "#export\n",
    "class Hydra(Module):\n",
    "    def __init__(self, models, vocab_sz=1, out_ps=0.4, linear_layers=[200, 50], ps=None, act=True, yrange=(0, 2.05)):\n",
    "        for model in models: self._remove_last_layer(model)\n",
    "        self.blocks = [model for model in models]\n",
    "        out_size = sum([self._output_size(block) for block in self.blocks])\n",
    "        \n",
    "        lin_dim = [out_size] + linear_layers + [vocab_sz]\n",
    "        if ps is None: ps = [0.1]*len(linear_layers)\n",
    "        ps = [out_ps] + ps\n",
    "        self.linear = Classifier(lin_dim, ps=ps, act=act, yrange=yrange)\n",
    "        self.blocks += [self.linear]\n",
    "        \n",
    "    def forward(self, x):\n",
    "        outs = self._body_outs(x)\n",
    "        return self.linear(outs)\n",
    "    \n",
    "    def _body_outs(self, x):\n",
    "        outs = [block(x)[0] if hasattr(block, 'rnn') else block(x) for block in self.blocks[:-1]]\n",
    "        return torch.cat(outs, dim=1)\n",
    "    \n",
    "    def eval(self): \n",
    "        for block in self.blocks: block.eval()\n",
    "            \n",
    "    def unfreeze_contacts(self): \n",
    "        for block in self.blocks[:-1]:\n",
    "            for p in params(block.blocks[-1]):\n",
    "                p.requires_grad_(True)\n",
    "    \n",
    "    def freeze_contacts(self):\n",
    "        for block in self.blocks[:-1]:\n",
    "            for p in params(block.blocks[-1]):\n",
    "                p.requires_grad_(False)\n",
    "        \n",
    "    @staticmethod    \n",
    "    def _last_layer(model): return model.blocks[-1].layers[-1]\n",
    "        \n",
    "    def _remove_last_layer(self, model): \n",
    "        if isinstance(self._last_layer(model), SigmoidRange) or isinstance(self._last_layer(model), nn.Softmax): \n",
    "            del model.blocks[-1].layers[-2:]\n",
    "        else:                             \n",
    "            del model.blocks[-1].layers[-1]\n",
    "    \n",
    "    def _output_size(self, model): return self._last_layer(model)[-2].out_features"
   ]
  },
  {
   "cell_type": "code",
   "execution_count": null,
   "metadata": {},
   "outputs": [],
   "source": [
    "names = [f\"cnn_dim1_t2_ks3_{i}\" for i in range(11)]\n",
    "models = [load_model(name).cuda() for name in names]\n",
    "dls = get_custom_dls(bs=10)"
   ]
  },
  {
   "cell_type": "code",
   "execution_count": null,
   "metadata": {},
   "outputs": [],
   "source": [
    "h = Hydra(models[:2], vocab_sz=5).cuda()"
   ]
  },
  {
   "cell_type": "code",
   "execution_count": null,
   "metadata": {},
   "outputs": [
    {
     "data": {
      "text/plain": [
       "(tensor([2, 2, 0, 4, 2, 2, 0, 2, 0, 3], device='cuda:0'),\n",
       " tensor([2, 0, 3, 1, 2, 0, 2, 4, 1, 0], device='cuda:0'))"
      ]
     },
     "execution_count": null,
     "metadata": {},
     "output_type": "execute_result"
    }
   ],
   "source": [
    "xb, yb = dls[0].one_batch()\n",
    "y_pred = h(xb)\n",
    "yb, y_pred.argmax(1)"
   ]
  },
  {
   "cell_type": "markdown",
   "metadata": {},
   "source": [
    "# Export-"
   ]
  },
  {
   "cell_type": "code",
   "execution_count": null,
   "metadata": {},
   "outputs": [
    {
     "name": "stdout",
     "output_type": "stream",
     "text": [
      "Converted 00_data.ipynb.\n",
      "Converted 01_models.ipynb.\n",
      "Converted 02_prototypes.ipynb.\n",
      "Converted 03_utils.ipynb.\n",
      "Converted 04_analysis.ipynb.\n",
      "Converted index.ipynb.\n"
     ]
    }
   ],
   "source": [
    "from nbdev.export import notebook2script\n",
    "notebook2script()"
   ]
  }
 ],
 "metadata": {
  "kernelspec": {
   "display_name": "Python [conda env:root] *",
   "language": "python",
   "name": "conda-root-py"
  }
 },
 "nbformat": 4,
 "nbformat_minor": 4
}
