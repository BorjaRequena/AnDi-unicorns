{
 "cells": [
  {
   "cell_type": "code",
   "execution_count": null,
   "metadata": {},
   "outputs": [],
   "source": [
    "#default_exp models"
   ]
  },
  {
   "cell_type": "code",
   "execution_count": null,
   "metadata": {},
   "outputs": [],
   "source": [
    "#export\n",
    "from fastai.text.all import *"
   ]
  },
  {
   "cell_type": "code",
   "execution_count": null,
   "metadata": {},
   "outputs": [],
   "source": [
    "#hide\n",
    "%load_ext autoreload\n",
    "%autoreload 2"
   ]
  },
  {
   "cell_type": "markdown",
   "metadata": {},
   "source": [
    "# Models\n",
    "> Here we define the different models"
   ]
  },
  {
   "cell_type": "markdown",
   "metadata": {},
   "source": [
    "## Utility layers\n",
    "Simple functionalities for the models."
   ]
  },
  {
   "cell_type": "code",
   "execution_count": null,
   "metadata": {},
   "outputs": [],
   "source": [
    "def mask_normalisation(x, mask):\n",
    "    \"Normalises each trajectory without taking the mask into account\"\n",
    "    lens = x.shape[1] - mask.sum(dim=1) + 1\n",
    "    x_with_0 = x.masked_fill(mask, 0)\n",
    "    mean = x_with_0.sum(dim=1).div_(lens.type(x_with_0.type()))\n",
    "    x_diff = (x - mean.unsqueeze(-1)).masked_fill(mask, 0)\n",
    "    sd = x_diff.pow(2).sum(1).div(lens.type(x_with_0.type()) - 1).sqrt()\n",
    "    return x_diff.div_(sd.unsqueeze(-1))\n",
    "\n",
    "def mask_concat_pool(output, mask):\n",
    "    \"Pool output of RNN with padding mask into one tensor [last_pool, avg_pool, max_pool]\"\n",
    "    lens = output.shape[1] - mask.sum(dim=1) + 1\n",
    "    out_with_0 = output.masked_fill(mask, 0)\n",
    "    out_with_inf = output.masked_fill(mask, -float('inf'))\n",
    "    avg_pool = out_with_0.sum(dim=1).div_(lens.type(out_with_0.type()))\n",
    "    max_pool = out_with_inf.max(dim=1)[0]\n",
    "    return torch.cat([output[:, -1], avg_pool, max_pool], 1)\n",
    "\n",
    "def get_act(vocab_sz, yrange=None):\n",
    "    \"Provides activation according to regression or classification task.\"\n",
    "    if vocab_sz == 1:\n",
    "        yrange = (0, 2.05) if yrange is None else yrange\n",
    "        act = SigmoidRange(*yrange)\n",
    "    else:\n",
    "        act = partial(F.softmax, dim=1)\n",
    "    return act\n",
    "\n",
    "def custom_splitter(m):\n",
    "    \"Splits model into parts for freezing. The model should have a `.blocks` property.\"\n",
    "    return L([block for block in m.blocks]).map(params)"
   ]
  },
  {
   "cell_type": "markdown",
   "metadata": {},
   "source": [
    "## Model for baseline\n",
    "\n",
    "The most basic model is one that takes the dataset and predicts the mean. Better start low, let's see what we get. "
   ]
  },
  {
   "cell_type": "code",
   "execution_count": null,
   "metadata": {},
   "outputs": [],
   "source": [
    "#export\n",
    "class MeanPredict:\n",
    "    def __init__(self):\n",
    "        self.mean = 0\n",
    "        \n",
    "    def fit(self, y): self.mean = y.mean()\n",
    "    def predict(self, x): return torch.ones(x.shape[0]) * self.mean"
   ]
  },
  {
   "cell_type": "code",
   "execution_count": null,
   "metadata": {},
   "outputs": [],
   "source": [
    "#hide\n",
    "from andi_unicorns.data import load_data"
   ]
  },
  {
   "cell_type": "code",
   "execution_count": null,
   "metadata": {},
   "outputs": [],
   "source": [
    "df = load_data(task=1, dim=1)\n",
    "x, y = df.loc[:, 'x'], df.loc[:, 'y']"
   ]
  },
  {
   "cell_type": "code",
   "execution_count": null,
   "metadata": {},
   "outputs": [],
   "source": [
    "cut = int(x.shape[0]*0.2)\n",
    "x_train, x_test = x[cut:], x[:cut]\n",
    "y_train, y_test = y[cut:], y[:cut]"
   ]
  },
  {
   "cell_type": "code",
   "execution_count": null,
   "metadata": {},
   "outputs": [],
   "source": [
    "mean_model = MeanPredict()\n",
    "mean_model.fit(y_train)"
   ]
  },
  {
   "cell_type": "code",
   "execution_count": null,
   "metadata": {},
   "outputs": [
    {
     "data": {
      "text/plain": [
       "0.49662789702415466"
      ]
     },
     "execution_count": null,
     "metadata": {},
     "output_type": "execute_result"
    }
   ],
   "source": [
    "preds = mean_model.predict(x_test)\n",
    "MAE = (tensor(y_test) - preds).abs().mean().item()\n",
    "MAE"
   ]
  },
  {
   "cell_type": "markdown",
   "metadata": {},
   "source": [
    "## Baseline LSTM\n",
    "\n",
    "Simplest possible LSTM to have a starting point. After the LSTM there's a (badly implemented) average pooling."
   ]
  },
  {
   "cell_type": "code",
   "execution_count": null,
   "metadata": {},
   "outputs": [],
   "source": [
    "#export\n",
    "class SimpleLSTM(Module):\n",
    "    \"Cheap and simple LSTM running through the trajectories.\"\n",
    "    def __init__(self, dim, h_size, vocab_sz, bs, n_layers=1, yrange=(0, 2.05)):\n",
    "        self.rnn = nn.LSTM(dim, h_size, n_layers, batch_first=True)\n",
    "        self.h_o = nn.Linear(h_size, vocab_sz)\n",
    "        self.h = [torch.zeros(n_layers, bs, h_size) for _ in range(2)] # In case we do a generative\n",
    "        self.sigmoid = SigmoidRange(*yrange)\n",
    "        \n",
    "    def forward(self, x):\n",
    "        res, h = self.rnn(x) # res[bs, len, h_size], \n",
    "        self.h = [h_.detach() for h_ in h]\n",
    "        avg_pool = res.mean(1)   # Poorly done avg pooling\n",
    "        out = self.h_o(avg_pool)\n",
    "        return self.sigmoid(out).squeeze()\n",
    "    \n",
    "    def reset(self): \n",
    "        for h in self.h: h.zero_()"
   ]
  },
  {
   "cell_type": "code",
   "execution_count": null,
   "metadata": {},
   "outputs": [],
   "source": [
    "#hide\n",
    "from andi_unicorns.data import get_discriminative_dls"
   ]
  },
  {
   "cell_type": "code",
   "execution_count": null,
   "metadata": {},
   "outputs": [],
   "source": [
    "bs = 512\n",
    "dls = get_discriminative_dls(1, dim=1, bs=bs)\n",
    "my_lstm = SimpleLSTM(dim=1, h_size=200, n_layers=2, vocab_sz=1, bs=bs)"
   ]
  },
  {
   "cell_type": "code",
   "execution_count": null,
   "metadata": {},
   "outputs": [],
   "source": [
    "learn = Learner(dls, my_lstm, loss_func=L1LossFlat(), path=Path(\"..\"))"
   ]
  },
  {
   "cell_type": "code",
   "execution_count": null,
   "metadata": {},
   "outputs": [
    {
     "data": {
      "text/html": [],
      "text/plain": [
       "<IPython.core.display.HTML object>"
      ]
     },
     "metadata": {},
     "output_type": "display_data"
    },
    {
     "data": {
      "text/plain": [
       "SuggestedLRs(lr_min=0.19054607152938843, lr_steep=1.5848932266235352)"
      ]
     },
     "execution_count": null,
     "metadata": {},
     "output_type": "execute_result"
    },
    {
     "data": {
      "image/png": "[encoded data removed]",
      "text/plain": [
       "<Figure size 432x288 with 1 Axes>"
      ]
     },
     "metadata": {
      "needs_background": "light"
     },
     "output_type": "display_data"
    }
   ],
   "source": [
    "learn.lr_find()"
   ]
  },
  {
   "cell_type": "code",
   "execution_count": null,
   "metadata": {},
   "outputs": [
    {
     "data": {
      "text/html": [
       "<table border=\"1\" class=\"dataframe\">\n",
       "  <thead>\n",
       "    <tr style=\"text-align: left;\">\n",
       "      <th>epoch</th>\n",
       "      <th>train_loss</th>\n",
       "      <th>valid_loss</th>\n",
       "      <th>time</th>\n",
       "    </tr>\n",
       "  </thead>\n",
       "  <tbody>\n",
       "    <tr>\n",
       "      <td>0</td>\n",
       "      <td>0.480675</td>\n",
       "      <td>0.457632</td>\n",
       "      <td>00:06</td>\n",
       "    </tr>\n",
       "    <tr>\n",
       "      <td>1</td>\n",
       "      <td>0.469124</td>\n",
       "      <td>0.455228</td>\n",
       "      <td>00:06</td>\n",
       "    </tr>\n",
       "    <tr>\n",
       "      <td>2</td>\n",
       "      <td>0.459526</td>\n",
       "      <td>0.455297</td>\n",
       "      <td>00:06</td>\n",
       "    </tr>\n",
       "    <tr>\n",
       "      <td>3</td>\n",
       "      <td>0.456676</td>\n",
       "      <td>0.458143</td>\n",
       "      <td>00:06</td>\n",
       "    </tr>\n",
       "    <tr>\n",
       "      <td>4</td>\n",
       "      <td>0.455993</td>\n",
       "      <td>0.452877</td>\n",
       "      <td>00:06</td>\n",
       "    </tr>\n",
       "    <tr>\n",
       "      <td>5</td>\n",
       "      <td>0.452940</td>\n",
       "      <td>0.450441</td>\n",
       "      <td>00:06</td>\n",
       "    </tr>\n",
       "    <tr>\n",
       "      <td>6</td>\n",
       "      <td>0.453736</td>\n",
       "      <td>0.451169</td>\n",
       "      <td>00:06</td>\n",
       "    </tr>\n",
       "    <tr>\n",
       "      <td>7</td>\n",
       "      <td>0.452826</td>\n",
       "      <td>0.452540</td>\n",
       "      <td>00:06</td>\n",
       "    </tr>\n",
       "    <tr>\n",
       "      <td>8</td>\n",
       "      <td>0.449670</td>\n",
       "      <td>0.453951</td>\n",
       "      <td>00:06</td>\n",
       "    </tr>\n",
       "    <tr>\n",
       "      <td>9</td>\n",
       "      <td>0.443756</td>\n",
       "      <td>0.438794</td>\n",
       "      <td>00:06</td>\n",
       "    </tr>\n",
       "    <tr>\n",
       "      <td>10</td>\n",
       "      <td>0.439217</td>\n",
       "      <td>0.415747</td>\n",
       "      <td>00:06</td>\n",
       "    </tr>\n",
       "    <tr>\n",
       "      <td>11</td>\n",
       "      <td>0.427215</td>\n",
       "      <td>0.410007</td>\n",
       "      <td>00:06</td>\n",
       "    </tr>\n",
       "    <tr>\n",
       "      <td>12</td>\n",
       "      <td>0.420981</td>\n",
       "      <td>0.374753</td>\n",
       "      <td>00:05</td>\n",
       "    </tr>\n",
       "    <tr>\n",
       "      <td>13</td>\n",
       "      <td>0.407750</td>\n",
       "      <td>0.383876</td>\n",
       "      <td>00:06</td>\n",
       "    </tr>\n",
       "    <tr>\n",
       "      <td>14</td>\n",
       "      <td>0.399243</td>\n",
       "      <td>0.388635</td>\n",
       "      <td>00:06</td>\n",
       "    </tr>\n",
       "    <tr>\n",
       "      <td>15</td>\n",
       "      <td>0.390660</td>\n",
       "      <td>0.372682</td>\n",
       "      <td>00:06</td>\n",
       "    </tr>\n",
       "    <tr>\n",
       "      <td>16</td>\n",
       "      <td>0.378228</td>\n",
       "      <td>0.362564</td>\n",
       "      <td>00:06</td>\n",
       "    </tr>\n",
       "    <tr>\n",
       "      <td>17</td>\n",
       "      <td>0.374212</td>\n",
       "      <td>0.358968</td>\n",
       "      <td>00:06</td>\n",
       "    </tr>\n",
       "    <tr>\n",
       "      <td>18</td>\n",
       "      <td>0.366348</td>\n",
       "      <td>0.358472</td>\n",
       "      <td>00:06</td>\n",
       "    </tr>\n",
       "    <tr>\n",
       "      <td>19</td>\n",
       "      <td>0.360652</td>\n",
       "      <td>0.358581</td>\n",
       "      <td>00:06</td>\n",
       "    </tr>\n",
       "  </tbody>\n",
       "</table>"
      ],
      "text/plain": [
       "<IPython.core.display.HTML object>"
      ]
     },
     "metadata": {},
     "output_type": "display_data"
    }
   ],
   "source": [
    "learn.fit_one_cycle(20, lr_max=1e-2)"
   ]
  },
  {
   "cell_type": "code",
   "execution_count": null,
   "metadata": {},
   "outputs": [
    {
     "data": {
      "image/png": "[encoded data removed]",
      "text/plain": [
       "<Figure size 432x288 with 1 Axes>"
      ]
     },
     "metadata": {
      "needs_background": "light"
     },
     "output_type": "display_data"
    }
   ],
   "source": [
    "learn.recorder.plot_loss()"
   ]
  },
  {
   "cell_type": "code",
   "execution_count": null,
   "metadata": {},
   "outputs": [
    {
     "data": {
      "text/plain": [
       "Path('models/most_basic.pth')"
      ]
     },
     "execution_count": null,
     "metadata": {},
     "output_type": "execute_result"
    }
   ],
   "source": [
    "learn.save('most_basic')"
   ]
  },
  {
   "cell_type": "markdown",
   "metadata": {},
   "source": [
    "## LSTM with concat pooling\n",
    "LSTM concatenating last, average and max pooling for the linear layer. Missing: dropout, RNN regularization and batch norm."
   ]
  },
  {
   "cell_type": "code",
   "execution_count": null,
   "metadata": {},
   "outputs": [],
   "source": [
    "#export\n",
    "class ConcatPoolLSTM(Module):\n",
    "    \"LSTM with last, avg & max pooling.\"\n",
    "    def __init__(self, dim, h_size, vocab_sz, n_layers=1, bidir=False, yrange=(0, 2.05), pad_value=0):\n",
    "        self.pad_value = pad_value\n",
    "        self.rnn = nn.LSTM(dim, h_size, n_layers, batch_first=True, bidirectional=bidir)\n",
    "        self.h_o = nn.Linear(3*h_size, vocab_sz)\n",
    "        self.sigmoid = SigmoidRange(*yrange)\n",
    "        \n",
    "    def forward(self, x):\n",
    "        res, h = self.rnn(x)\n",
    "        for h_ in h: h_.detach()\n",
    "        mask = x == self.pad_value\n",
    "        pool = mask_concat_pool(res, mask)\n",
    "        out = self.h_o(pool)\n",
    "        return self.sigmoid(out).squeeze()    "
   ]
  },
  {
   "cell_type": "code",
   "execution_count": null,
   "metadata": {},
   "outputs": [],
   "source": [
    "#hide\n",
    "from andi_unicorns.data import get_discriminative_dls"
   ]
  },
  {
   "cell_type": "code",
   "execution_count": null,
   "metadata": {},
   "outputs": [],
   "source": [
    "bs = 256\n",
    "dls = get_discriminative_dls(1, dim=1, bs=bs)\n",
    "my_lstm = ConcatPoolLSTM(dim=1, h_size=200, vocab_sz=1, n_layers=2)"
   ]
  },
  {
   "cell_type": "code",
   "execution_count": null,
   "metadata": {},
   "outputs": [],
   "source": [
    "learn = Learner(dls, my_lstm, loss_func=L1LossFlat(), path=Path(\"..\"))"
   ]
  },
  {
   "cell_type": "code",
   "execution_count": null,
   "metadata": {},
   "outputs": [
    {
     "data": {
      "text/html": [],
      "text/plain": [
       "<IPython.core.display.HTML object>"
      ]
     },
     "metadata": {},
     "output_type": "display_data"
    },
    {
     "data": {
      "text/plain": [
       "SuggestedLRs(lr_min=0.002290867641568184, lr_steep=6.309573450380412e-07)"
      ]
     },
     "execution_count": null,
     "metadata": {},
     "output_type": "execute_result"
    },
    {
     "data": {
      "image/png": "[encoded data removed]",
      "text/plain": [
       "<Figure size 432x288 with 1 Axes>"
      ]
     },
     "metadata": {
      "needs_background": "light"
     },
     "output_type": "display_data"
    }
   ],
   "source": [
    "learn.lr_find()"
   ]
  },
  {
   "cell_type": "code",
   "execution_count": null,
   "metadata": {},
   "outputs": [
    {
     "data": {
      "text/html": [
       "<table border=\"1\" class=\"dataframe\">\n",
       "  <thead>\n",
       "    <tr style=\"text-align: left;\">\n",
       "      <th>epoch</th>\n",
       "      <th>train_loss</th>\n",
       "      <th>valid_loss</th>\n",
       "      <th>time</th>\n",
       "    </tr>\n",
       "  </thead>\n",
       "  <tbody>\n",
       "    <tr>\n",
       "      <td>0</td>\n",
       "      <td>0.477336</td>\n",
       "      <td>0.463557</td>\n",
       "      <td>00:05</td>\n",
       "    </tr>\n",
       "    <tr>\n",
       "      <td>1</td>\n",
       "      <td>0.453745</td>\n",
       "      <td>0.438139</td>\n",
       "      <td>00:05</td>\n",
       "    </tr>\n",
       "    <tr>\n",
       "      <td>2</td>\n",
       "      <td>0.441699</td>\n",
       "      <td>0.434306</td>\n",
       "      <td>00:05</td>\n",
       "    </tr>\n",
       "    <tr>\n",
       "      <td>3</td>\n",
       "      <td>0.433865</td>\n",
       "      <td>0.403646</td>\n",
       "      <td>00:05</td>\n",
       "    </tr>\n",
       "    <tr>\n",
       "      <td>4</td>\n",
       "      <td>0.410418</td>\n",
       "      <td>0.348553</td>\n",
       "      <td>00:05</td>\n",
       "    </tr>\n",
       "    <tr>\n",
       "      <td>5</td>\n",
       "      <td>0.380282</td>\n",
       "      <td>0.333734</td>\n",
       "      <td>00:05</td>\n",
       "    </tr>\n",
       "    <tr>\n",
       "      <td>6</td>\n",
       "      <td>0.357164</td>\n",
       "      <td>0.334694</td>\n",
       "      <td>00:05</td>\n",
       "    </tr>\n",
       "    <tr>\n",
       "      <td>7</td>\n",
       "      <td>0.343448</td>\n",
       "      <td>0.310950</td>\n",
       "      <td>00:05</td>\n",
       "    </tr>\n",
       "    <tr>\n",
       "      <td>8</td>\n",
       "      <td>0.329999</td>\n",
       "      <td>0.309211</td>\n",
       "      <td>00:05</td>\n",
       "    </tr>\n",
       "    <tr>\n",
       "      <td>9</td>\n",
       "      <td>0.320462</td>\n",
       "      <td>0.301743</td>\n",
       "      <td>00:04</td>\n",
       "    </tr>\n",
       "    <tr>\n",
       "      <td>10</td>\n",
       "      <td>0.305517</td>\n",
       "      <td>0.291457</td>\n",
       "      <td>00:05</td>\n",
       "    </tr>\n",
       "    <tr>\n",
       "      <td>11</td>\n",
       "      <td>0.291146</td>\n",
       "      <td>0.287913</td>\n",
       "      <td>00:05</td>\n",
       "    </tr>\n",
       "    <tr>\n",
       "      <td>12</td>\n",
       "      <td>0.282300</td>\n",
       "      <td>0.303499</td>\n",
       "      <td>00:05</td>\n",
       "    </tr>\n",
       "    <tr>\n",
       "      <td>13</td>\n",
       "      <td>0.284774</td>\n",
       "      <td>0.285231</td>\n",
       "      <td>00:04</td>\n",
       "    </tr>\n",
       "    <tr>\n",
       "      <td>14</td>\n",
       "      <td>0.276963</td>\n",
       "      <td>0.287966</td>\n",
       "      <td>00:05</td>\n",
       "    </tr>\n",
       "    <tr>\n",
       "      <td>15</td>\n",
       "      <td>0.275603</td>\n",
       "      <td>0.281532</td>\n",
       "      <td>00:05</td>\n",
       "    </tr>\n",
       "    <tr>\n",
       "      <td>16</td>\n",
       "      <td>0.263547</td>\n",
       "      <td>0.280372</td>\n",
       "      <td>00:05</td>\n",
       "    </tr>\n",
       "    <tr>\n",
       "      <td>17</td>\n",
       "      <td>0.274825</td>\n",
       "      <td>0.286905</td>\n",
       "      <td>00:04</td>\n",
       "    </tr>\n",
       "    <tr>\n",
       "      <td>18</td>\n",
       "      <td>0.270143</td>\n",
       "      <td>0.280844</td>\n",
       "      <td>00:05</td>\n",
       "    </tr>\n",
       "    <tr>\n",
       "      <td>19</td>\n",
       "      <td>0.265217</td>\n",
       "      <td>0.282407</td>\n",
       "      <td>00:06</td>\n",
       "    </tr>\n",
       "  </tbody>\n",
       "</table>"
      ],
      "text/plain": [
       "<IPython.core.display.HTML object>"
      ]
     },
     "metadata": {},
     "output_type": "display_data"
    }
   ],
   "source": [
    "learn.fit_one_cycle(20, lr_max=2e-3)"
   ]
  },
  {
   "cell_type": "code",
   "execution_count": null,
   "metadata": {},
   "outputs": [
    {
     "data": {
      "image/png": "[encoded data removed]",
      "text/plain": [
       "<Figure size 432x288 with 1 Axes>"
      ]
     },
     "metadata": {
      "needs_background": "light"
     },
     "output_type": "display_data"
    }
   ],
   "source": [
    "learn.recorder.plot_loss()"
   ]
  },
  {
   "cell_type": "code",
   "execution_count": null,
   "metadata": {},
   "outputs": [
    {
     "data": {
      "text/plain": [
       "Path('../models/concat_pool.pth')"
      ]
     },
     "execution_count": null,
     "metadata": {},
     "output_type": "execute_result"
    }
   ],
   "source": [
    "learn.save('concat_pool')"
   ]
  },
  {
   "cell_type": "markdown",
   "metadata": {},
   "source": [
    "## LSTM with regularization\n",
    "\n",
    "Adding regularization to the previous model in the form of dropout and adding batch norm to the linear layers. "
   ]
  },
  {
   "cell_type": "code",
   "execution_count": null,
   "metadata": {},
   "outputs": [],
   "source": [
    "#export\n",
    "class RegLSTMLin(Module):\n",
    "    \"LSTM with dropout and batch norm.\"\n",
    "    def __init__(self, dim, h_size, vocab_sz=1, rnn_layers=1, in_p=0.4, hid_p=0.3, weight_p=0.5, out_ps=0.4, linear_layers=[200, 50], ps=None,   \n",
    "                 bidir=False, yrange=(0, 2.05), pad_value=0):\n",
    "        config = awd_lstm_clas_config\n",
    "        self.pad_value = pad_value\n",
    "        self.rnn = RegLSTM(dim, h_size, rnn_layers, hidden_p=hid_p, input_p=in_p, weight_p=weight_p, bidir=bidir)\n",
    "        \n",
    "        lin_dim = [h_size*3] + linear_layers + [vocab_sz]\n",
    "        if ps is None: ps = [0.1]*len(linear_layers)\n",
    "        ps = [out_ps] + ps\n",
    "        self.linear = PoolingClassifier(lin_dim, ps=ps, yrange=yrange)\n",
    "        self.blocks = [self.rnn, self.linear]\n",
    "        \n",
    "    def forward(self, x):\n",
    "        mask = x == self.pad_value\n",
    "        x = mask_normalisation(x, mask)\n",
    "        out = self.rnn(x)\n",
    "        x, out, out = self.linear((out, mask))\n",
    "        return x, out, out \n",
    "    \n",
    "class RegLSTM(Module):\n",
    "    \"LSTM with regularization and inter-layer dropout.\"\n",
    "    def __init__(self, dim, n_hid, n_layers, hidden_p=0.3, input_p=0.4, weight_p=0.5, bidir=False):\n",
    "        store_attr('dim,n_hid,n_layers')\n",
    "        self.n_dir = 2 if bidir else 1\n",
    "        self.rnns = nn.ModuleList([self._one_rnn(dim if l == 0 else n_hid, n_hid//self.n_dir,\n",
    "                                                 bidir, weight_p, l) for l in range(n_layers)])\n",
    "        self.input_dp = RNNDropout(input_p)\n",
    "        self.hidden_dps = nn.ModuleList([RNNDropout(hidden_p) for l in range(n_layers)])\n",
    "\n",
    "    def forward(self, x):\n",
    "        output = self.input_dp(x)\n",
    "        new_hidden = []\n",
    "        for l, (rnn,hid_dp) in enumerate(zip(self.rnns, self.hidden_dps)):\n",
    "            output, new_h = rnn(output)\n",
    "            new_hidden.append(new_h)\n",
    "            if l != self.n_layers-1: output = hid_dp(output)\n",
    "        self.hidden = to_detach(new_hidden, cpu=False, gather=False)\n",
    "        return output\n",
    "\n",
    "    def _one_rnn(self, n_in, n_out, bidir, weight_p, l):\n",
    "        \"Return one of the inner rnn\"\n",
    "        rnn = nn.LSTM(n_in, n_out, 1, batch_first=True, bidirectional=bidir)\n",
    "        return WeightDropout(rnn, weight_p)\n",
    "    \n",
    "class PoolingClassifier(Module):\n",
    "    \"Pooling linear classifier inspired by `PoolingLinearClassifier`\"\n",
    "    def __init__(self, dims, ps, yrange=None):\n",
    "        if len(ps) != len(dims)-1: raise ValueError(f\"Number of layers {len(dims)} and dropout values {len(ps)} don't match.\")\n",
    "        acts = [nn.ReLU(inplace=True)] * (len(dims) - 2) + [None]\n",
    "        layers = [LinBnDrop(i, o, p=p, act=a) for i,o,p,a in zip(dims[:-1], dims[1:], ps, acts)]\n",
    "        layers.append(get_act(dims[-1], yrange=yrange))\n",
    "        self.layers = nn.Sequential(*layers)\n",
    "        \n",
    "    def forward(self, x):\n",
    "        out, mask = x\n",
    "        x = mask_concat_pool(out, mask)\n",
    "        x = self.layers(x)\n",
    "        return x, out, out"
   ]
  },
  {
   "cell_type": "code",
   "execution_count": null,
   "metadata": {},
   "outputs": [],
   "source": [
    "#hide\n",
    "from andi_unicorns.data import get_discriminative_dls, get_custom_dls\n",
    "yranges = {0: (0, 1.05), 1: (0, 1.05), 2: (0, 2), 3: (1, 2.05), 4: (0, 2.05)} # Dict mapping models to yranges"
   ]
  },
  {
   "cell_type": "code",
   "execution_count": null,
   "metadata": {},
   "outputs": [],
   "source": [
    "dim = 1\n",
    "bs = 128\n",
    "dm = 3\n",
    "# dls = get_discriminative_dls(1, dim=1, bs=bs)\n",
    "dls = get_custom_dls(target='exp', models=[dm], bs=bs)\n",
    "my_lstm = RegLSTMLin(dim=dim, h_size=500, rnn_layers=2, in_p=0., hid_p=0., weight_p=1e-4, out_ps=0.3, ps=[0.4, 0.4])\n",
    "\n",
    "learn = Learner(dls, my_lstm, loss_func=L1LossFlat(), splitter=custom_splitter, path=Path(\"..\"), cbs=[RNNRegularizer(alpha=1e-3, beta=1e-3)])"
   ]
  },
  {
   "cell_type": "code",
   "execution_count": null,
   "metadata": {},
   "outputs": [],
   "source": [
    "# For transfer learning\n",
    "# learn.load('reglstm_1')\n",
    "learn.model.blocks[-1].layers[-1] = SigmoidRange(*yranges[dm])"
   ]
  },
  {
   "cell_type": "code",
   "execution_count": null,
   "metadata": {},
   "outputs": [],
   "source": [
    "learn.unfreeze()"
   ]
  },
  {
   "cell_type": "code",
   "execution_count": null,
   "metadata": {},
   "outputs": [
    {
     "data": {
      "text/html": [],
      "text/plain": [
       "<IPython.core.display.HTML object>"
      ]
     },
     "metadata": {},
     "output_type": "display_data"
    },
    {
     "data": {
      "text/plain": [
       "SuggestedLRs(lr_min=0.014454397559165954, lr_steep=2.2908675418875646e-06)"
      ]
     },
     "execution_count": null,
     "metadata": {},
     "output_type": "execute_result"
    },
    {
     "data": {
      "image/png": "[encoded data removed]",
      "text/plain": [
       "<Figure size 432x288 with 1 Axes>"
      ]
     },
     "metadata": {
      "needs_background": "light"
     },
     "output_type": "display_data"
    }
   ],
   "source": [
    "learn.lr_find()"
   ]
  },
  {
   "cell_type": "code",
   "execution_count": null,
   "metadata": {},
   "outputs": [],
   "source": [
    "learn.fit_one_cycle(10, lr_max=5e-3, wd=1e-4)"
   ]
  },
  {
   "cell_type": "code",
   "execution_count": null,
   "metadata": {},
   "outputs": [],
   "source": []
  },
  {
   "cell_type": "code",
   "execution_count": null,
   "metadata": {},
   "outputs": [
    {
     "data": {
      "text/plain": [
       "Path('../models/reglstm_t1_dm2.pth')"
      ]
     },
     "execution_count": null,
     "metadata": {},
     "output_type": "execute_result"
    }
   ],
   "source": [
    "learn.save(f'reglstm_t{dim}_dm{dm}')"
   ]
  },
  {
   "cell_type": "code",
   "execution_count": null,
   "metadata": {},
   "outputs": [],
   "source": [
    "from andi_unicorns.data import validate_task"
   ]
  },
  {
   "cell_type": "code",
   "execution_count": null,
   "metadata": {},
   "outputs": [
    {
     "data": {
      "text/plain": [
       "<fastai.learner.Learner at 0x7f4e674dbf10>"
      ]
     },
     "execution_count": null,
     "metadata": {},
     "output_type": "execute_result"
    }
   ],
   "source": [
    "learn.load(f'reglstm_{dim}')"
   ]
  },
  {
   "cell_type": "code",
   "execution_count": null,
   "metadata": {},
   "outputs": [],
   "source": [
    "validate_task([learn.model.cuda()], 1, [1])"
   ]
  },
  {
   "cell_type": "code",
   "execution_count": null,
   "metadata": {},
   "outputs": [],
   "source": []
  },
  {
   "cell_type": "markdown",
   "metadata": {},
   "source": [
    "# Export-"
   ]
  },
  {
   "cell_type": "code",
   "execution_count": null,
   "metadata": {},
   "outputs": [
    {
     "name": "stdout",
     "output_type": "stream",
     "text": [
      "Converted 00_data.ipynb.\n",
      "Converted 01_models.ipynb.\n",
      "Converted index.ipynb.\n"
     ]
    }
   ],
   "source": [
    "from nbdev.export import notebook2script\n",
    "notebook2script()"
   ]
  },
  {
   "cell_type": "code",
   "execution_count": null,
   "metadata": {},
   "outputs": [],
   "source": []
  }
 ],
 "metadata": {
  "kernelspec": {
   "display_name": "Python [conda env:root] *",
   "language": "python",
   "name": "conda-root-py"
  }
 },
 "nbformat": 4,
 "nbformat_minor": 4
}
