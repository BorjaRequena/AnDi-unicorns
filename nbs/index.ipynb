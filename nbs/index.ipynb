{
 "cells": [
  {
   "cell_type": "markdown",
   "metadata": {},
   "source": [
    "# Anomalous Unicorns for AnDi Challenge\n",
    "\n",
    "> Library with the prototyping process of the Anomalous Unicorns team (@ICFO) for the [Anomalous diffusion challenge](http://www.andi-challenge.org/)"
   ]
  },
  {
   "cell_type": "markdown",
   "metadata": {},
   "source": [
    "The main contributors are Borja Requena, Gorka Muñoz-Gil (co-organizer of the challenge) and Korbinian Kottman, all from ICFO.\n",
    "\n",
    "The prototyping has been done for the two first tasks of the challenge:\n",
    "- **Task 1** (regression): anomalous diffusion prediction from variable length trajectories. \n",
    "- **Task 2** (classification): diffusion model prediction from variable length trajectories. \n",
    "\n",
    "Due to lack of time, we have only been able to train models for 1D trajectories and we have not been able to nail down a model for the third task. For further detail about the tasks, refer to the [official webpage](http://www.andi-challenge.org/) and the [paper](https://arxiv.org/pdf/2003.12036.pdf). "
   ]
  },
  {
   "cell_type": "markdown",
   "metadata": {},
   "source": [
    "## Installation\n",
    "\n",
    "In order to play with our prototypes, the package `andi_unicorns` must be installed. In order to do so, cone this repo and, then, considering a file structure like `whatever/path/AnDi-unicorns`, navigate to `whatever/path` and `pip install AnDi-unicorns`. \n",
    "\n",
    "In case of willing to make new models, install it in editable mode: `pip install -e AnDi-unicorns`."
   ]
  },
  {
   "cell_type": "markdown",
   "metadata": {},
   "source": [
    "## Brief model description\n",
    "\n",
    "We have taken the result of the classification for the regression task, so let us start with Task 2.\n",
    "\n",
    "For the classification we have leveraged convolutional neural networks (CNNs) and recurrent neural networks (RNNs) to perform the predictions. The predictors are made out of two feature extractors, a CNN and an RNN, that converge into a dense classifier consisting of two fully connected layers. We call this kind of architecture a Hydra, provided that there is one body (the classifier) and several heads that look into the data (the feature extractors). The resulting classifier is an ensemble of these hydras. \n",
    "\n",
    "Then, for the regression, we have taken a similar approach building a larger hydra. First, provided that the different diffusion models present quite significant behaviours, we have trained CNNs and RNNs to predict the anomalous exponent of specific diffusion models. With these models, we have built a twelve-head hydra: two feature extractors (CNN, RNN) for each of the five diffusion models and a pre-trained classifier hydra from the previous task. In a sense, the classifier at the end receives the information of each \"expert network\" together with the information of which one should be considered. The resulting regressor is an ensemble of these hydras."
   ]
  }
 ],
 "metadata": {
  "kernelspec": {
   "display_name": "Python 3",
   "language": "python",
   "name": "python3"
  }
 },
 "nbformat": 4,
 "nbformat_minor": 4
}
