{
 "cells": [
  {
   "cell_type": "code",
   "execution_count": null,
   "metadata": {},
   "outputs": [],
   "source": [
    "# default_exp data"
   ]
  },
  {
   "cell_type": "code",
   "execution_count": null,
   "metadata": {},
   "outputs": [],
   "source": [
    "#export\n",
    "from pathlib import Path\n",
    "import urllib.request as u_request\n",
    "from zipfile import ZipFile\n",
    "import csv \n",
    "import pandas as pd\n",
    "\n",
    "from fastai.text.all import *"
   ]
  },
  {
   "cell_type": "code",
   "execution_count": null,
   "metadata": {},
   "outputs": [],
   "source": [
    "#hide\n",
    "from nbdev.showdoc import *"
   ]
  },
  {
   "cell_type": "markdown",
   "metadata": {},
   "source": [
    "# Data\n",
    "\n",
    "> Here we deal with the data acquisition and processing."
   ]
  },
  {
   "cell_type": "markdown",
   "metadata": {},
   "source": [
    "## Data acquirement"
   ]
  },
  {
   "cell_type": "code",
   "execution_count": null,
   "metadata": {},
   "outputs": [],
   "source": [
    "#export\n",
    "def acquire_data(train=True, val=True):\n",
    "    \"\"\"Obtains the train and validation datasets of the competition. \n",
    "    The train url maight fail. Get it from https://drive.google.com/drive/folders/1RXziMCO4Y0Fmpm5bmjcpy-Genhzv4QJ4\"\"\"\n",
    "    data_path = Path(\"../data\")\n",
    "    data_path.mkdir(exist_ok=True)\n",
    "    \n",
    "    train_url = (\"https://doc-4k-88-drive-data-export.googleusercontent.com/download/qh9kfuk2n3khcj0qvrn9t3a4j19nve1a/\" + \n",
    "                \"rqpd3tajosn0gta5f9mmbbb1e4u8csnn/1599642000000/17390da5-4567-4189-8a62-1749e1b19b06/108540842544374891611/\" + \n",
    "                \"ADt3v-N9HwRAxXINIFMKGcsrjzMlrvhOOYitRyphFom1Ma-CUUekLTkDp75fOegXlyeVVrTPjlnqDaK0g6iI7eDL9YJw91-\" + \n",
    "                \"jiityR3iTfrysZP6hpGA62c4lkZbjGp_NJL-XSDUlPcwiVi5Hd5rFtH1YYP0tiiFCoJZsTT4akE8fjdrkZU7vaqFznxuyQDA8YGaiuYlKu\" + \n",
    "                \"-F1HiAc9kG_k9EMgkMncNflNJtlugxH5pFcNDdrYiOzIINRIRivt5ScquQ_s4KyuV-zYOQ_g2_VYri8YAg0IqbBrcO-exlp5j-\" +\n",
    "                \"t02GDh5JZKU3Hky5b70Z8brCL5lvK0SFAFIKOer45ZrFaACA3HGRNJg==?authuser=0&nonce=k5g7m53pp3cqq&user=\" + \n",
    "                \"108540842544374891611&hash=m7kmrh87gmekjhrdcpbhuf1kj13ui0l2\")\n",
    "    val_url = (\"https://newcodalab.lri.fr/prod-private/dataset_data_file/None/5a854/development_for_scoring_new.zip?X-\" +\n",
    "               \"Amz-Algorithm=AWS4-HMAC-SHA256&X-Amz-Expires=86400&X-Amz-SignedHeaders=host&X-Amz-Signature=\" +\n",
    "               \"7773750e4e17ea830f574de39161a8a584a70b7a0ebd7baa5bf5401be96cc687&X-Amz-Date=20200909T090404Z&X-Amz\" + \n",
    "               \"-Credential=AZIAIOSAODNN7EX123LE%2F20200909%2Fnewcodalab%2Fs3%2Faws4_request\")\n",
    "\n",
    "    if train: \n",
    "        data = _download_bytes(train_url)\n",
    "        _write_bytes(data, data_path)\n",
    "        train_path = data_path/\"Development dataset for Training\"\n",
    "        train_path.rename(train_path.parent/\"train\")\n",
    "        \n",
    "    if val: \n",
    "        data = _download_bytes(val_url)\n",
    "        _write_bytes(data, data_path/\"val\")\n",
    "    \n",
    "def _download_bytes(url):\n",
    "    \"Downloads data from `url` as bytes\"\n",
    "    u = u_request.urlopen(url)\n",
    "    data = u.read()\n",
    "    u.close()\n",
    "    return data\n",
    "\n",
    "def _write_bytes(data, path):\n",
    "    \"Saves `data` (bytes) into path.\"\n",
    "    zip_path = _zip_bytes(data)\n",
    "    _unzip_file(zip_path, new_path=path)\n",
    "\n",
    "def _zip_bytes(data, path=None):\n",
    "    \"Saves bytes data as .zip in `path`.\"\n",
    "    if path is None: path = Path(\"../temp\")\n",
    "    zip_path = path.with_suffix(\".zip\")\n",
    "    with open(zip_path, \"wb\") as f:\n",
    "        f.write(data)\n",
    "    return zip_path\n",
    "        \n",
    "def _unzip_file(file_path, new_path=None, purge=True):\n",
    "    \"Unzips file in `file_path` to `new_path`.\"\n",
    "    if new_path is None: new_path = file_path.with_suffix(\"\")\n",
    "    zip_path = file_path.with_suffix(\".zip\")\n",
    "    with ZipFile(zip_path, 'r') as f:\n",
    "        f.extractall(new_path)\n",
    "    if purge: zip_path.unlink()"
   ]
  },
  {
   "cell_type": "markdown",
   "metadata": {},
   "source": [
    "## Data conditioning"
   ]
  },
  {
   "cell_type": "code",
   "execution_count": null,
   "metadata": {},
   "outputs": [],
   "source": [
    "#export\n",
    "def _txt2df(task, train=True, val=False):\n",
    "    \"Extracts dataset and saves it in df form\"\n",
    "    if train:\n",
    "        df = pd.DataFrame(columns=['dim', 'y', 'x', 'len'], dtype=object)\n",
    "        train_path = Path(\"../data/train\")\n",
    "        if not (train_path/f\"task{task}.txt\").exists(): acquire_data(train=train, val=val)\n",
    "        with open(train_path/f\"task{task}.txt\", \"r\") as D, open(train_path/f\"ref{task}.txt\") as Y:\n",
    "            trajs = csv.reader(D, delimiter=\";\", lineterminator=\"\\n\", quoting=csv.QUOTE_NONNUMERIC)\n",
    "            labels = csv.reader(Y, delimiter=\";\", lineterminator=\"\\n\", quoting=csv.QUOTE_NONNUMERIC)\n",
    "            for t, y in zip(trajs, labels):\n",
    "                dim, x = int(t[0]), t[1:]\n",
    "                x = tensor(x).view(dim, -1).T\n",
    "                df = df.append({'dim': dim, 'y': y[1], 'x': x, 'len': len(x)}, ignore_index=True)\n",
    "\n",
    "        df.to_pickle(train_path/f\"task{task}.pkl\")\n",
    "        \n",
    "    if val: \n",
    "        df = pd.DataFrame(columns=['dim', 'x', 'len'], dtype=object)\n",
    "        val_path = Path(\"../data/val\")\n",
    "        if not (val_path/f\"task{task}.txt\").exists(): acquire_data(train=train, val=val)\n",
    "        with open(val_path/f\"task{task}.txt\", \"r\") as D:\n",
    "            trajs = csv.reader(D, delimiter=\";\", lineterminator=\"\\n\", quoting=csv.QUOTE_NONNUMERIC)\n",
    "            for t, y in zip(trajs, labels):\n",
    "                dim, x = int(t[0]), t[1:]\n",
    "                x = tensor(x).view(dim, -1).T\n",
    "                df = df.append({'dim': dim, 'x': x, 'len': len(x)}, ignore_index=True)\n",
    "        \n",
    "        df['y'] = \"\"\n",
    "        df.to_pickle(val_path/f\"task{task}.pkl\")\n",
    "        \n",
    "def load_data(task, dim=1, train=True):\n",
    "    \"Loads train or val data of corresponding dimension.\"\n",
    "    path = Path(\"../data/train\") if train else Path(\"../data/val\")\n",
    "    try: \n",
    "        df = pd.read_pickle(path/f\"task{task}.pkl\")\n",
    "    except: \n",
    "        _txt2df(task, train=train, val=not train)\n",
    "        df = pd.read_pickle(path/f\"task{task}.pkl\")    \n",
    "    return df[df['dim']==dim].reset_index()"
   ]
  },
  {
   "cell_type": "markdown",
   "metadata": {},
   "source": [
    "## Dataloaders"
   ]
  },
  {
   "cell_type": "code",
   "execution_count": null,
   "metadata": {},
   "outputs": [],
   "source": [
    "#export\n",
    "def get_discriminative_dls(task, dim=1, bs=64, split_pct=0.2, train=True, **kwargs):\n",
    "    \"Obtain `DataLoaders` for classification/regression models.\"\n",
    "    data = load_data(task, dim=dim, train=train)\n",
    "    ds = L(zip(data['x'], data['y']))\n",
    "    idx = L(int(i) for i in torch.randperm(data.shape[0]))\n",
    "    cut = int(data.shape[0]*split_pct)\n",
    "    \n",
    "    train_ds, val_ds = ds[idx[cut:]], ds[idx[:cut]]\n",
    "    sorted_dl = partial(SortedDL, before_batch=partial(pad_trajectories, **kwargs), shuffle=True)\n",
    "    dls = DataLoaders.from_dsets(train_ds, val_ds, bs=bs, dl_type=sorted_dl, device=default_device())\n",
    "    \n",
    "    return dls\n",
    "\n",
    "def pad_trajectories(samples, pad_value=0, pad_first=True, backwards=False):\n",
    "    \"Pads trajectories assuming shape (len, dim)\"\n",
    "    max_len = max([s.shape[0] for s, _ in samples])\n",
    "    if backwards: pad_first = not pad_first\n",
    "    def _pad_sample(s):\n",
    "        diff = max_len - s.shape[0]\n",
    "        pad = s.new_zeros((diff, s.shape[1])) + pad_value\n",
    "        pad_s = torch.cat([pad, s] if pad_first else [s, pad])\n",
    "        if backwards: pad_s = pad_s.flip(0)\n",
    "        return pad_s\n",
    "    return L((_pad_sample(s), y) for s, y in samples)"
   ]
  },
  {
   "cell_type": "code",
   "execution_count": null,
   "metadata": {},
   "outputs": [],
   "source": [
    "dls = get_discriminative_dls(task=1, dim=2)"
   ]
  },
  {
   "cell_type": "code",
   "execution_count": null,
   "metadata": {},
   "outputs": [
    {
     "data": {
      "text/plain": [
       "(torch.Size([64, 999, 2]), torch.Size([64]))"
      ]
     },
     "execution_count": null,
     "metadata": {},
     "output_type": "execute_result"
    }
   ],
   "source": [
    "x, y = dls.one_batch()\n",
    "x.shape, y.shape"
   ]
  },
  {
   "cell_type": "markdown",
   "metadata": {},
   "source": [
    "# Export-"
   ]
  },
  {
   "cell_type": "code",
   "execution_count": null,
   "metadata": {},
   "outputs": [
    {
     "name": "stdout",
     "output_type": "stream",
     "text": [
      "Converted 00_data.ipynb.\n",
      "Converted 01_models.ipynb.\n",
      "Converted index.ipynb.\n"
     ]
    }
   ],
   "source": [
    "#hide\n",
    "from nbdev.export import notebook2script\n",
    "notebook2script()"
   ]
  },
  {
   "cell_type": "code",
   "execution_count": null,
   "metadata": {},
   "outputs": [],
   "source": []
  }
 ],
 "metadata": {
  "kernelspec": {
   "display_name": "Python 3",
   "language": "python",
   "name": "python3"
  }
 },
 "nbformat": 4,
 "nbformat_minor": 4
}
